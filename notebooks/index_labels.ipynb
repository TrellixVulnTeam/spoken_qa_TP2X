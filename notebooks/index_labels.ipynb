{
 "cells": [
  {
   "cell_type": "markdown",
   "metadata": {},
   "source": [
    "# Index Entities\n",
    "Create inverted index for all entity labels as lowercased normalised bigrams"
   ]
  },
  {
   "cell_type": "code",
   "execution_count": 1,
   "metadata": {},
   "outputs": [
    {
     "name": "stdout",
     "output_type": "stream",
     "text": [
      "28497 entity labels\n"
     ]
    }
   ],
   "source": [
    "# load entities\n",
    "import json\n",
    "\n",
    "path = '../data/'\n",
    "\n",
    "with open(path+'entities.json', 'r') as fin:\n",
    "    entities = json.load(fin)\n",
    "print(len(entities), 'entity labels')"
   ]
  },
  {
   "cell_type": "code",
   "execution_count": 12,
   "metadata": {},
   "outputs": [
    {
     "name": "stdout",
     "output_type": "stream",
     "text": [
      "1000\n"
     ]
    }
   ],
   "source": [
    "from collections import defaultdict\n",
    "\n",
    "import re\n",
    "from unidecode import unidecode\n",
    "\n",
    "chars_to_ignore_regex = '[\\,\\?\\.\\!\\-\\;\\:\\\"]'\n",
    "\n",
    "\n",
    "inverted_index = defaultdict(list)\n",
    "\n",
    "for j, e_label in enumerate(list(entities.values())):\n",
    "    e_label = re.sub(chars_to_ignore_regex, '', e_label).lower()\n",
    "    e_label = unidecode(e_label)\n",
    "    e_label = ''.join([j for i, j in enumerate(e_label) if j != e_label[i-1]])  # remove repeated letters\n",
    "    \n",
    "    for word in e_label.split():\n",
    "        for i in range(0, len(word)-1, 1):\n",
    "            bigram = word[i:i + 2]\n",
    "#             print(bigram)\n",
    "            if e_label not in inverted_index[bigram]:\n",
    "                inverted_index[bigram].append(e_label)\n",
    "#     break\n",
    "\n",
    "print(len(inverted_index))"
   ]
  },
  {
   "cell_type": "code",
   "execution_count": 13,
   "metadata": {},
   "outputs": [],
   "source": [
    "with open(path+'entities_bigrams_index.json', 'w') as f:\n",
    "    f.write(json.dumps(inverted_index))"
   ]
  },
  {
   "cell_type": "markdown",
   "metadata": {},
   "source": [
    "# Index relations"
   ]
  },
  {
   "cell_type": "code",
   "execution_count": 17,
   "metadata": {},
   "outputs": [
    {
     "name": "stdout",
     "output_type": "stream",
     "text": [
      "['head of government', 'head of government']\n",
      "14678\n",
      "7337\n"
     ]
    }
   ],
   "source": [
    "# load relations\n",
    "from predicates import properties\n",
    "\n",
    "relations = {}\n",
    "for p in properties['results']['bindings']:\n",
    "    label = p['propertyLabel']['value']\n",
    "\n",
    "    _id = p['property']['value'].split('/')[-1]\n",
    "    relations[_id] = label\n",
    "\n",
    "    _id = 'R' + p['property']['value'].split('/')[-1][1:]\n",
    "    relations[_id] = label\n",
    "\n",
    "# all unique predicate labels\n",
    "all_predicate_labels = list(relations.values())\n",
    "print(all_predicate_labels[:2])\n",
    "print(len(all_predicate_labels))\n",
    "all_predicate_labels = set(all_predicate_labels)\n",
    "print(len(all_predicate_labels))"
   ]
  },
  {
   "cell_type": "code",
   "execution_count": 18,
   "metadata": {},
   "outputs": [
    {
     "name": "stdout",
     "output_type": "stream",
     "text": [
      "866\n"
     ]
    }
   ],
   "source": [
    "from collections import defaultdict\n",
    "\n",
    "import re\n",
    "from unidecode import unidecode\n",
    "\n",
    "chars_to_ignore_regex = '[\\,\\?\\.\\!\\-\\;\\:\\\"]'\n",
    "\n",
    "\n",
    "inverted_index = defaultdict(list)\n",
    "\n",
    "for j, e_label in enumerate(list(relations.values())):\n",
    "    e_label = re.sub(chars_to_ignore_regex, '', e_label).lower()\n",
    "    e_label = unidecode(e_label)\n",
    "    e_label = ''.join([j for i, j in enumerate(e_label) if j != e_label[i-1]])  # remove repeated letters\n",
    "    \n",
    "    for word in e_label.split():\n",
    "        for i in range(0, len(word)-1, 1):\n",
    "            bigram = word[i:i + 2]\n",
    "#             print(bigram)\n",
    "            if e_label not in inverted_index[bigram]:\n",
    "                inverted_index[bigram].append(e_label)\n",
    "#     break\n",
    "\n",
    "print(len(inverted_index))"
   ]
  },
  {
   "cell_type": "code",
   "execution_count": 19,
   "metadata": {},
   "outputs": [],
   "source": [
    "path = '../data/'\n",
    "\n",
    "with open(path+'relations_bigrams_index.json', 'w') as f:\n",
    "    f.write(json.dumps(inverted_index))"
   ]
  },
  {
   "cell_type": "code",
   "execution_count": null,
   "metadata": {},
   "outputs": [],
   "source": []
  }
 ],
 "metadata": {
  "kernelspec": {
   "display_name": "transformers",
   "language": "python",
   "name": "transformers"
  },
  "language_info": {
   "codemirror_mode": {
    "name": "ipython",
    "version": 3
   },
   "file_extension": ".py",
   "mimetype": "text/x-python",
   "name": "python",
   "nbconvert_exporter": "python",
   "pygments_lexer": "ipython3",
   "version": "3.6.10"
  }
 },
 "nbformat": 4,
 "nbformat_minor": 2
}
