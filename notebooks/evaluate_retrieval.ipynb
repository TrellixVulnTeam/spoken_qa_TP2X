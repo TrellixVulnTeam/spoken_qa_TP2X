{
 "cells": [
  {
   "cell_type": "code",
   "execution_count": 14,
   "metadata": {},
   "outputs": [],
   "source": [
    "corpus_name = 'relations'  # entities relations\n",
    "\n",
    "# load validation split\n",
    "from beir.datasets.data_loader import GenericDataLoader\n",
    "\n",
    "# e.g. to test entity retrieval\n",
    "data_path = '/ivi/ilps/personal/svakule/spoken_qa/WD18/'\n",
    "corpus_path = data_path + 'corpus/%s.jsonl' % corpus_name\n",
    "query_path = data_path + 'queries/wav2vec2-base-960h.jsonl'  # original.jsonl wav2vec2-base-960h.jsonl\n",
    "qrels_path = data_path + 'qrels/valid_%s.tsv' % corpus_name  # valid_relations.tsv train_entities.tsv train_relations.tsv\n",
    "\n",
    "corpus, queries, qrels = GenericDataLoader(corpus_file=corpus_path, \n",
    "                                           query_file=query_path, \n",
    "                                           qrels_file=qrels_path).load_custom()"
   ]
  },
  {
   "cell_type": "code",
   "execution_count": 20,
   "metadata": {},
   "outputs": [
    {
     "data": {
      "application/vnd.jupyter.widget-view+json": {
       "model_id": "35406d7fa549446a801959318a35d99e",
       "version_major": 2,
       "version_minor": 0
      },
      "text/plain": [
       "Batches:   0%|          | 0/38 [00:00<?, ?it/s]"
      ]
     },
     "metadata": {},
     "output_type": "display_data"
    },
    {
     "data": {
      "application/vnd.jupyter.widget-view+json": {
       "model_id": "72a3e5c7897f4a5eb99e703e1ed4c7a6",
       "version_major": 2,
       "version_minor": 0
      },
      "text/plain": [
       "Batches:   0%|          | 0/70 [00:00<?, ?it/s]"
      ]
     },
     "metadata": {},
     "output_type": "display_data"
    },
    {
     "name": "stdout",
     "output_type": "stream",
     "text": [
      "0.206\t0.321\t0.371\t0.429\t0.640\t\n"
     ]
    }
   ],
   "source": [
    "from beir.retrieval.search.dense import DenseRetrievalExactSearch as DRES\n",
    "from beir.retrieval.evaluation import EvaluateRetrieval\n",
    "from beir.retrieval import models\n",
    "\n",
    "\n",
    "model_name = \"msmarco-distilbert-base-tas-b\"\n",
    "\n",
    "model = DRES(models.SentenceBERT(model_name))\n",
    "retriever = EvaluateRetrieval(model, score_function=\"dot\")\n",
    "results1 = retriever.retrieve(corpus, queries)\n",
    "ndcg, _map, recall, precision = retriever.evaluate(qrels, results1, retriever.k_values)\n",
    "print('%.3f\\t'*5 % (recall['Recall@1'], recall['Recall@3'],\n",
    "                    recall['Recall@5'], recall['Recall@10'],\n",
    "                    recall['Recall@100']))"
   ]
  },
  {
   "cell_type": "code",
   "execution_count": null,
   "metadata": {},
   "outputs": [],
   "source": []
  }
 ],
 "metadata": {
  "kernelspec": {
   "display_name": "transformers",
   "language": "python",
   "name": "transformers"
  },
  "language_info": {
   "codemirror_mode": {
    "name": "ipython",
    "version": 3
   },
   "file_extension": ".py",
   "mimetype": "text/x-python",
   "name": "python",
   "nbconvert_exporter": "python",
   "pygments_lexer": "ipython3",
   "version": "3.8.1"
  }
 },
 "nbformat": 4,
 "nbformat_minor": 2
}
