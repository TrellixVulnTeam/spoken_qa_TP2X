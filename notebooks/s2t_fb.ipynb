{
 "cells": [
  {
   "cell_type": "code",
   "execution_count": 8,
   "metadata": {},
   "outputs": [
    {
     "name": "stdout",
     "output_type": "stream",
     "text": [
      "where was sasha vujačić born\n",
      "what is a film directed by wiebke von carolsfeld\n",
      "what was seymour parker gilbert's profession\n",
      "in what french city did antoine de févin die \n",
      "what job does jamie hewlett have\n"
     ]
    }
   ],
   "source": [
    "# load original questions TODO\n",
    "n = 5\n",
    "qs = []\n",
    "\n",
    "import re\n",
    "chars_to_ignore_regex = '[\\,\\?\\.\\!\\-\\;\\:\\\"]'\n",
    "\n",
    "with open('../annotated_wd_data_valid_answerable.txt') as fin:\n",
    "    lines = fin.readlines()\n",
    "    for l in lines[:n]:\n",
    "#         subject [tab] property [tab] object [tab] question\n",
    "        s, p, o, q = l.strip('\\n').split('\\t')\n",
    "        q = re.sub(chars_to_ignore_regex, '', q).lower()\n",
    "        print(q)\n",
    "        qs.append(q)"
   ]
  },
  {
   "cell_type": "code",
   "execution_count": 4,
   "metadata": {},
   "outputs": [
    {
     "name": "stdout",
     "output_type": "stream",
     "text": [
      " where was such a brachet born\n",
      " what is a hum directed by victor von carlsfinch\n",
      " what was same where parker gilbert's profession\n",
      " in what french city did anton de fivian die\n",
      " what job does jamie he'll let have\n"
     ]
    }
   ],
   "source": [
    "# ASR FB_S2T\n",
    "# for i in *.wav; do ffmpeg -i $i -ar 1600 -acodec pcm_s16le -ac 1 ./mono/$(basename $i); done\n",
    "import os\n",
    "import torch\n",
    "from transformers import Speech2TextProcessor, Speech2TextForConditionalGeneration\n",
    "from datasets import load_dataset\n",
    "import soundfile as sf\n",
    "\n",
    "model = Speech2TextForConditionalGeneration.from_pretrained(\"facebook/s2t-small-librispeech-asr\")\n",
    "processor = Speech2TextProcessor.from_pretrained(\"facebook/s2t-small-librispeech-asr\")\n",
    "\n",
    "path = \"../dev/\"\n",
    "\n",
    "# init transcripts\n",
    "ts = [''] * n\n",
    "\n",
    "# model.to(\"cuda\")\n",
    "\n",
    "for file in os.listdir(path):\n",
    "    speech, samplerate = sf.read(path+file)\n",
    "    i = int(file.split('.')[0]) - 1\n",
    "    \n",
    "    \n",
    "    input_features = processor(\n",
    "        speech,\n",
    "        sampling_rate=16_000,\n",
    "        return_tensors=\"pt\"\n",
    "    ).input_features  # Batch size 1\n",
    "\n",
    "    generated_ids = model.generate(input_ids=input_features)\n",
    "\n",
    "    transcription = processor.batch_decode(generated_ids)\n",
    "    ts[i] = transcription[0].strip('</s>')\n",
    "\n",
    "for t in ts:\n",
    "    print(t)"
   ]
  },
  {
   "cell_type": "code",
   "execution_count": 9,
   "metadata": {},
   "outputs": [
    {
     "name": "stdout",
     "output_type": "stream",
     "text": [
      "where was sasha vujačić born  where was such a brachet born\n",
      "what is a film directed by wiebke von carolsfeld  what is a hum directed by victor von carlsfinch\n",
      "what was seymour parker gilbert's profession  what was same where parker gilbert's profession\n",
      "in what french city did antoine de févin die   in what french city did anton de fivian die\n",
      "what job does jamie hewlett have  what job does jamie he'll let have\n",
      "Test WER: 0.343\n",
      "Test CER: 0.199\n"
     ]
    }
   ],
   "source": [
    "#### calculate metrics TODO\n",
    "for i, t in enumerate(ts):\n",
    "    print(qs[i], t)\n",
    "    \n",
    "from datasets import load_metric\n",
    "wer_metric = load_metric(\"wer\")\n",
    "print(\"Test WER: {:.3f}\".format(wer_metric.compute(predictions=ts, references=qs)))\n",
    "\n",
    "wer_metric = load_metric(\"cer\")\n",
    "\n",
    "print(\"Test CER: {:.3f}\".format(wer_metric.compute(predictions=ts, references=qs)))"
   ]
  },
  {
   "cell_type": "code",
   "execution_count": null,
   "metadata": {},
   "outputs": [],
   "source": []
  }
 ],
 "metadata": {
  "kernelspec": {
   "display_name": "transformers",
   "language": "python",
   "name": "transformers"
  },
  "language_info": {
   "codemirror_mode": {
    "name": "ipython",
    "version": 3
   },
   "file_extension": ".py",
   "mimetype": "text/x-python",
   "name": "python",
   "nbconvert_exporter": "python",
   "pygments_lexer": "ipython3",
   "version": "3.6.10"
  }
 },
 "nbformat": 4,
 "nbformat_minor": 2
}
