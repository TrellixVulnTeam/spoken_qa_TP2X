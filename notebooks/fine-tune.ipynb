{
 "cells": [
  {
   "cell_type": "code",
   "execution_count": 20,
   "metadata": {},
   "outputs": [
    {
     "name": "stdout",
     "output_type": "stream",
     "text": [
      "/ivi/ilps/personal/svakule/spoken_qa/models/msmarco-distilbert-base-v3-dot-WD18_entities_original\n"
     ]
    }
   ],
   "source": [
    "import pathlib, os\n",
    "\n",
    "data_path = '/ivi/ilps/personal/svakule/spoken_qa'\n",
    "dataset_version = 'WD18_entities_original'  # entities relations wav2vec2-base-960h original\n",
    "\n",
    "model_name = \"msmarco-distilbert-base-v3\"  # msmarco-distilbert-base-tas-b msmarco-distilbert-base-v3\n",
    "similarity = 'dot'  # dot cos_sim\n",
    "\n",
    "#### Provide model save path\n",
    "model_save_path = os.path.join(data_path, \"models\", \"{}-{}-{}\".format(model_name, similarity, dataset_version))\n",
    "os.makedirs(model_save_path, exist_ok=True)\n",
    "print(model_save_path)"
   ]
  },
  {
   "cell_type": "markdown",
   "metadata": {},
   "source": [
    "# Train"
   ]
  },
  {
   "cell_type": "code",
   "execution_count": 21,
   "metadata": {},
   "outputs": [
    {
     "name": "stdout",
     "output_type": "stream",
     "text": [
      "WD18 entities original train\n"
     ]
    },
    {
     "data": {
      "application/vnd.jupyter.widget-view+json": {
       "model_id": "ccb4039defb946fb83ffc9ff70892738",
       "version_major": 2,
       "version_minor": 0
      },
      "text/plain": [
       "Adding Input Examples:   0%|          | 0/1420 [00:00<?, ?it/s]"
      ]
     },
     "metadata": {},
     "output_type": "display_data"
    },
    {
     "data": {
      "application/vnd.jupyter.widget-view+json": {
       "model_id": "c536ec97243c4c9fb176808cad506796",
       "version_major": 2,
       "version_minor": 0
      },
      "text/plain": [
       "Epoch:   0%|          | 0/1 [00:00<?, ?it/s]"
      ]
     },
     "metadata": {},
     "output_type": "display_data"
    },
    {
     "data": {
      "application/vnd.jupyter.widget-view+json": {
       "model_id": "1b564cb76cb647a08d893f4e7df7eb95",
       "version_major": 2,
       "version_minor": 0
      },
      "text/plain": [
       "Iteration:   0%|          | 0/1420 [00:00<?, ?it/s]"
      ]
     },
     "metadata": {},
     "output_type": "display_data"
    },
    {
     "name": "stdout",
     "output_type": "stream",
     "text": [
      "/ivi/ilps/personal/svakule/spoken_qa/models/msmarco-distilbert-base-v3-dot-WD18_entities_original trained.\n"
     ]
    }
   ],
   "source": [
    "# sample training script from https://github.com/UKPLab/beir/blob/main/examples/retrieval/training/train_sbert.py\n",
    "from sentence_transformers import losses, models, SentenceTransformer\n",
    "from beir import util, LoggingHandler\n",
    "from beir.datasets.data_loader import GenericDataLoader\n",
    "from beir.retrieval.train import TrainRetriever\n",
    "\n",
    "from utils import load_data\n",
    "\n",
    "corpus, queries, qrels = load_data('train', dataset_version, data_path)\n",
    "\n",
    "#### Provide any sentence-transformers or HF model\n",
    "# model_name = \"distilbert-base-uncased\" \n",
    "# word_embedding_model = models.Transformer(model_name, max_seq_length=350)\n",
    "# pooling_model = models.Pooling(word_embedding_model.get_word_embedding_dimension())\n",
    "# model = SentenceTransformer(modules=[word_embedding_model, pooling_model])\n",
    "\n",
    "#### Or provide pretrained sentence-transformer model\n",
    "model = SentenceTransformer(model_name)\n",
    "\n",
    "retriever = TrainRetriever(model=model, batch_size=16)\n",
    "\n",
    "#### Prepare training samples\n",
    "train_samples = retriever.load_train(corpus, queries, qrels)\n",
    "train_dataloader = retriever.prepare_train(train_samples, shuffle=True)\n",
    "\n",
    "#### Training SBERT with cosine-product\n",
    "if similarity == 'cos_sim':\n",
    "    train_loss = losses.MultipleNegativesRankingLoss(model=retriever.model)\n",
    "#### training SBERT with dot-product\n",
    "elif similarity == 'dot':\n",
    "    train_loss = losses.MultipleNegativesRankingLoss(model=retriever.model, similarity_fct=util.dot_score)\n",
    "\n",
    "#### Prepare dev evaluator\n",
    "# ir_evaluator = retriever.load_ir_evaluator(dev_corpus, dev_queries, dev_qrels)\n",
    "\n",
    "#### If no dev set is present from above use dummy evaluator\n",
    "ir_evaluator = retriever.load_dummy_evaluator()\n",
    "\n",
    "#### Configure Train params\n",
    "num_epochs = 1\n",
    "evaluation_steps = 5000\n",
    "warmup_steps = int(len(train_samples) * num_epochs / retriever.batch_size * 0.1)\n",
    "\n",
    "retriever.fit(train_objectives=[(train_dataloader, train_loss)], \n",
    "                                evaluator=ir_evaluator, \n",
    "                                epochs=num_epochs,\n",
    "                                output_path=model_save_path,\n",
    "                                warmup_steps=warmup_steps,\n",
    "                                evaluation_steps=evaluation_steps,\n",
    "                                use_amp=True)\n",
    "print(model_save_path, 'trained.')"
   ]
  },
  {
   "cell_type": "markdown",
   "metadata": {},
   "source": [
    "# Evaluate"
   ]
  },
  {
   "cell_type": "code",
   "execution_count": 22,
   "metadata": {},
   "outputs": [
    {
     "name": "stdout",
     "output_type": "stream",
     "text": [
      "/ivi/ilps/personal/svakule/spoken_qa/models/msmarco-distilbert-base-v3-dot-WD18_entities_original dot\n",
      "WD18 entities original valid\n"
     ]
    },
    {
     "data": {
      "application/vnd.jupyter.widget-view+json": {
       "model_id": "d897e6c7b19d4cf5b6468ffc94efe110",
       "version_major": 2,
       "version_minor": 0
      },
      "text/plain": [
       "Batches:   0%|          | 0/26 [00:00<?, ?it/s]"
      ]
     },
     "metadata": {},
     "output_type": "display_data"
    },
    {
     "data": {
      "application/vnd.jupyter.widget-view+json": {
       "model_id": "49cd7fa6eb204fdaba7eac99a738bba7",
       "version_major": 2,
       "version_minor": 0
      },
      "text/plain": [
       "Batches:   0%|          | 0/223 [00:00<?, ?it/s]"
      ]
     },
     "metadata": {},
     "output_type": "display_data"
    },
    {
     "name": "stdout",
     "output_type": "stream",
     "text": [
      "WD18 entities wav2vec2-base-960h valid\n"
     ]
    },
    {
     "data": {
      "application/vnd.jupyter.widget-view+json": {
       "model_id": "a9e9d34977a94d91bf40d8fb7be4825b",
       "version_major": 2,
       "version_minor": 0
      },
      "text/plain": [
       "Batches:   0%|          | 0/26 [00:00<?, ?it/s]"
      ]
     },
     "metadata": {},
     "output_type": "display_data"
    },
    {
     "data": {
      "application/vnd.jupyter.widget-view+json": {
       "model_id": "8bf144e0bc1a40ba8ea8a912cef9fb90",
       "version_major": 2,
       "version_minor": 0
      },
      "text/plain": [
       "Batches:   0%|          | 0/223 [00:00<?, ?it/s]"
      ]
     },
     "metadata": {},
     "output_type": "display_data"
    },
    {
     "name": "stdout",
     "output_type": "stream",
     "text": [
      "WD18 relations original valid\n"
     ]
    },
    {
     "data": {
      "application/vnd.jupyter.widget-view+json": {
       "model_id": "ee1d4964cef9435cb14cac4e3a854ddb",
       "version_major": 2,
       "version_minor": 0
      },
      "text/plain": [
       "Batches:   0%|          | 0/38 [00:00<?, ?it/s]"
      ]
     },
     "metadata": {},
     "output_type": "display_data"
    },
    {
     "data": {
      "application/vnd.jupyter.widget-view+json": {
       "model_id": "ea2a668af7c44b82b9eae41399dc6d4f",
       "version_major": 2,
       "version_minor": 0
      },
      "text/plain": [
       "Batches:   0%|          | 0/70 [00:00<?, ?it/s]"
      ]
     },
     "metadata": {},
     "output_type": "display_data"
    },
    {
     "name": "stdout",
     "output_type": "stream",
     "text": [
      "WD18 relations wav2vec2-base-960h valid\n"
     ]
    },
    {
     "data": {
      "application/vnd.jupyter.widget-view+json": {
       "model_id": "37076de64b944fb0b8209094c4e6ce6f",
       "version_major": 2,
       "version_minor": 0
      },
      "text/plain": [
       "Batches:   0%|          | 0/38 [00:00<?, ?it/s]"
      ]
     },
     "metadata": {},
     "output_type": "display_data"
    },
    {
     "data": {
      "application/vnd.jupyter.widget-view+json": {
       "model_id": "1dda8c4af8a949b5b24e57aed1846f3b",
       "version_major": 2,
       "version_minor": 0
      },
      "text/plain": [
       "Batches:   0%|          | 0/70 [00:00<?, ?it/s]"
      ]
     },
     "metadata": {},
     "output_type": "display_data"
    },
    {
     "name": "stdout",
     "output_type": "stream",
     "text": [
      "0.911\t0.967\t0.975\t0.981\t0.987\t0.368\t0.451\t0.481\t0.525\t0.648\t0.035\t0.054\t0.065\t0.082\t0.174\t0.025\t0.037\t0.043\t0.054\t0.117\t\n"
     ]
    }
   ],
   "source": [
    "from beir.retrieval.search.dense import DenseRetrievalExactSearch as DRES\n",
    "from beir.retrieval.evaluation import EvaluateRetrieval\n",
    "from beir.retrieval import models\n",
    "\n",
    "# reload previously trained model instead\n",
    "# from utils import load_data\n",
    "# data_path = '/ivi/ilps/personal/svakule/spoken_qa'\n",
    "# model_save_path = data_path + \"/models/msmarco-distilbert-base-tas-b-dot-WD18_relations_original\"\n",
    "\n",
    "split = 'valid'\n",
    "dataset_versions = ['WD18_entities_original',\n",
    "                    'WD18_entities_wav2vec2-base-960h',\n",
    "                    'WD18_relations_original',\n",
    "                    'WD18_relations_wav2vec2-base-960h']\n",
    "\n",
    "# change similarity at inference time\n",
    "similarity = 'dot'  # cos_sim dot\n",
    "print(model_save_path, similarity)\n",
    "\n",
    "# load model\n",
    "model = DRES(models.SentenceBERT(model_save_path))\n",
    "retriever = EvaluateRetrieval(model, score_function=similarity)\n",
    "\n",
    "# iterate over all dataset versions\n",
    "metrics = [] \n",
    "for dataset_version in dataset_versions[:]:\n",
    "    corpus, queries, qrels = load_data(split, dataset_version, data_path)\n",
    "\n",
    "    results = retriever.retrieve(corpus, queries)\n",
    "    ndcg, _map, recall, precision = retriever.evaluate(qrels, results, retriever.k_values)\n",
    "    metrics.extend([recall['Recall@1'], recall['Recall@3'],\n",
    "                    recall['Recall@5'], recall['Recall@10'], recall['Recall@100']])\n",
    "    \n",
    "#     break\n",
    "\n",
    "print('%.3f\\t'*5*len(dataset_versions) % tuple(metrics))"
   ]
  },
  {
   "cell_type": "code",
   "execution_count": null,
   "metadata": {},
   "outputs": [],
   "source": []
  }
 ],
 "metadata": {
  "kernelspec": {
   "display_name": "transformers",
   "language": "python",
   "name": "transformers"
  },
  "language_info": {
   "codemirror_mode": {
    "name": "ipython",
    "version": 3
   },
   "file_extension": ".py",
   "mimetype": "text/x-python",
   "name": "python",
   "nbconvert_exporter": "python",
   "pygments_lexer": "ipython3",
   "version": "3.8.1"
  }
 },
 "nbformat": 4,
 "nbformat_minor": 2
}
