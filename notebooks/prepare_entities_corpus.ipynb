{
 "cells": [
  {
   "cell_type": "code",
   "execution_count": 2,
   "metadata": {},
   "outputs": [
    {
     "name": "stdout",
     "output_type": "stream",
     "text": [
      "28497 entities\n",
      "{'_id': 'Q1938494', 'title': '', 'text': 'Mirosław Bork', 'metadata': {}}\n"
     ]
    }
   ],
   "source": [
    "# load entities\n",
    "import json\n",
    "\n",
    "with open('../data/entities.json', 'r') as fin:\n",
    "    entities = json.load(fin)\n",
    "\n",
    "corpus = []\n",
    "for _id, label in entities.items():\n",
    "    corpus.append({\"_id\": _id, \"title\": \"\", \"text\": label, \"metadata\": {}})\n",
    "\n",
    "print(len(corpus), 'entities')\n",
    "print(corpus[0])"
   ]
  },
  {
   "cell_type": "code",
   "execution_count": 4,
   "metadata": {},
   "outputs": [],
   "source": [
    "# load data from https://github.com/askplatypus/wikidata-simplequestions\n",
    "data_path = '/ivi/ilps/personal/svakule/spoken_qa/'\n",
    "\n",
    "path_to_train_questions = data_path + 'annotated_wd_data_train.txt'\n",
    "path_to_valid_questions = data_path + 'annotated_wd_data_valid.txt'"
   ]
  },
  {
   "cell_type": "code",
   "execution_count": 7,
   "metadata": {},
   "outputs": [
    {
     "name": "stdout",
     "output_type": "stream",
     "text": [
      "26006 samples with entities recognised\n",
      "{'_id': 't0', 'text': 'what movie is produced by warner bros.', 'metadata': {}} ['t0', 'Q126399', '1'] ['v1', 'Q318926', '1']\n"
     ]
    }
   ],
   "source": [
    "# filter questions with entities for which we have label\n",
    "dataset = 'WD18_entities/'\n",
    "\n",
    "corpus_path = data_path + dataset + \"corpus.jsonl\"\n",
    "query_path = data_path + dataset + \"queries.jsonl\"\n",
    "train_qrels_path = data_path + dataset + \"qrels/train.tsv\"\n",
    "valid_qrels_path = data_path + dataset + \"qrels/valid.tsv\"\n",
    "\n",
    "queries = []\n",
    "\n",
    "with open(path_to_train_questions) as fin:\n",
    "    lines = fin.readlines()\n",
    "    train_qrels = []\n",
    "    for i, l in enumerate(lines):\n",
    "        s, p, o, q = lines[i].strip('\\n').split('\\t')\n",
    "        _id = 't' + str(i)\n",
    "        if s in entities:\n",
    "            queries.append({\"_id\": _id, \"text\": q, \"metadata\": {}})\n",
    "            train_qrels.append([_id, s, '1'])\n",
    "\n",
    "with open(path_to_valid_questions) as fin:\n",
    "    lines = fin.readlines()\n",
    "    valid_qrels = []\n",
    "    for i, l in enumerate(lines):\n",
    "        s, p, o, q = lines[i].strip('\\n').split('\\t')\n",
    "        _id = 'v' + str(i)\n",
    "        if s in entities:\n",
    "            queries.append({\"_id\": _id, \"text\": q, \"metadata\": {}})\n",
    "            valid_qrels.append([_id, s, '1'])\n",
    "\n",
    "print(len(queries), 'samples with entities recognised')\n",
    "print(queries[0], train_qrels[0], valid_qrels[0])"
   ]
  },
  {
   "cell_type": "code",
   "execution_count": 10,
   "metadata": {},
   "outputs": [],
   "source": [
    "# save dataset\n",
    "import jsonlines\n",
    "\n",
    "with open(corpus_path, 'w') as out_file:\n",
    "    for d in corpus:\n",
    "        out_file.write(json.dumps(d))\n",
    "        out_file.write(\"\\n\")\n",
    "        \n",
    "with open(query_path, 'w') as out_file:\n",
    "    for d in queries:\n",
    "        out_file.write(json.dumps(d))\n",
    "        out_file.write(\"\\n\")\n",
    "\n",
    "with open(train_qrels_path, 'w') as out_file:\n",
    "    for qrel in train_qrels:\n",
    "        out_file.write('\\t'.join(qrel)+'\\n')\n",
    "\n",
    "with open(valid_qrels_path, 'w') as out_file:\n",
    "    for qrel in valid_qrels:\n",
    "        out_file.write('\\t'.join(qrel)+'\\n')"
   ]
  },
  {
   "cell_type": "code",
   "execution_count": 12,
   "metadata": {},
   "outputs": [],
   "source": [
    "from beir.datasets.data_loader import GenericDataLoader\n",
    "\n",
    "data_path = '/ivi/ilps/personal/svakule/spoken_qa/WD18_entities'\n",
    "corpus, queries, qrels = GenericDataLoader(data_folder=data_path).load(split=\"train\")\n",
    "corpus, queries, qrels = GenericDataLoader(data_folder=data_path).load(split=\"valid\")"
   ]
  },
  {
   "cell_type": "code",
   "execution_count": null,
   "metadata": {},
   "outputs": [],
   "source": []
  }
 ],
 "metadata": {
  "kernelspec": {
   "display_name": "transformers",
   "language": "python",
   "name": "transformers"
  },
  "language_info": {
   "codemirror_mode": {
    "name": "ipython",
    "version": 3
   },
   "file_extension": ".py",
   "mimetype": "text/x-python",
   "name": "python",
   "nbconvert_exporter": "python",
   "pygments_lexer": "ipython3",
   "version": "3.8.1"
  }
 },
 "nbformat": 4,
 "nbformat_minor": 2
}
