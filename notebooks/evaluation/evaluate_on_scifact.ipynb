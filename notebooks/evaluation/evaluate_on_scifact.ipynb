{
 "cells": [
  {
   "cell_type": "markdown",
   "metadata": {},
   "source": [
    "# Evaluate DR"
   ]
  },
  {
   "cell_type": "code",
   "execution_count": 6,
   "metadata": {},
   "outputs": [
    {
     "name": "stdout",
     "output_type": "stream",
     "text": [
      "300 questions\n",
      "5183 documents\n"
     ]
    }
   ],
   "source": [
    "# load the dataset\n",
    "import os\n",
    "from beir.datasets.data_loader import GenericDataLoader\n",
    "from utils import data_path\n",
    "\n",
    "dataset = 'scifact'\n",
    "data_path = os.path.join(data_path, dataset)\n",
    "\n",
    "corpus, queries, qrels = GenericDataLoader(data_folder=data_path).load(split=\"test\")\n",
    "\n",
    "print(len(queries), 'questions')\n",
    "print(len(corpus), 'documents')"
   ]
  },
  {
   "cell_type": "code",
   "execution_count": 7,
   "metadata": {},
   "outputs": [
    {
     "data": {
      "application/vnd.jupyter.widget-view+json": {
       "model_id": "fc1a7f5072eb4b75a132f0f0ca91f8f3",
       "version_major": 2,
       "version_minor": 0
      },
      "text/plain": [
       "Batches:   0%|          | 0/19 [00:00<?, ?it/s]"
      ]
     },
     "metadata": {},
     "output_type": "display_data"
    },
    {
     "data": {
      "application/vnd.jupyter.widget-view+json": {
       "model_id": "918865bd7c964a5d8fa8f033d39cf2f9",
       "version_major": 2,
       "version_minor": 0
      },
      "text/plain": [
       "Batches:   0%|          | 0/324 [00:00<?, ?it/s]"
      ]
     },
     "metadata": {},
     "output_type": "display_data"
    }
   ],
   "source": [
    "# load pre-trained model\n",
    "from beir.retrieval.evaluation import EvaluateRetrieval\n",
    "from beir.retrieval.search.dense import DenseRetrievalExactSearch as DRES\n",
    "from beir.retrieval import models\n",
    "\n",
    "model_name = 'msmarco-distilbert-base-tas-b'\n",
    "model = DRES(models.SentenceBERT(model_name), batch_size=16)\n",
    "retriever = EvaluateRetrieval(model, score_function=\"dot\")\n",
    "results = retriever.retrieve(corpus, queries)"
   ]
  },
  {
   "cell_type": "code",
   "execution_count": 13,
   "metadata": {},
   "outputs": [
    {
     "name": "stdout",
     "output_type": "stream",
     "text": [
      "0.643\t0.509\t0.700\t0.761\t0.891\t0.983\t\n"
     ]
    }
   ],
   "source": [
    "ndcg, _map, recall, precision = retriever.evaluate(qrels, results, retriever.k_values)\n",
    "print('%.3f\\t'*6 %(ndcg['NDCG@10'], recall['Recall@1'], recall['Recall@5'],\n",
    "                   recall['Recall@10'],recall['Recall@100'], recall['Recall@1000']))"
   ]
  },
  {
   "cell_type": "markdown",
   "metadata": {},
   "source": [
    "# Evaluate BM25"
   ]
  },
  {
   "cell_type": "code",
   "execution_count": 14,
   "metadata": {},
   "outputs": [],
   "source": [
    "# use pyserini to retrieve relevant documents with default BM25 \n",
    "from pyserini.search import SimpleSearcher\n",
    "from beir.retrieval.evaluation import EvaluateRetrieval\n",
    "\n",
    "from utils import indices_path\n",
    "\n",
    "index_name = \"beir/scifact\"\n",
    "path_index = indices_path + index_name\n",
    "\n",
    "retriever = EvaluateRetrieval()\n",
    "qids = list(queries)\n",
    "query_texts = [queries[qid] for qid in qids]\n",
    "payload = {\"queries\": query_texts, \"qids\": qids, \"k\": max(retriever.k_values)}\n",
    "\n",
    "searcher = SimpleSearcher(path_index)\n",
    "hits = searcher.batch_search(queries=query_texts, qids=qids, k=max(retriever.k_values))\n",
    "\n",
    "results = {}\n",
    "for id_ in qids:\n",
    "    results[id_] = {}\n",
    "    for hit in hits[id_]:\n",
    "        results[id_][hit.docid.strip()] = hit.score"
   ]
  },
  {
   "cell_type": "code",
   "execution_count": 15,
   "metadata": {},
   "outputs": [
    {
     "name": "stdout",
     "output_type": "stream",
     "text": [
      "0.663\t0.514\t0.731\t0.791\t0.917\t0.973\t\n"
     ]
    }
   ],
   "source": [
    "ndcg, _map, recall, precision = retriever.evaluate(qrels, results, retriever.k_values)\n",
    "print('%.3f\\t'*6 %(ndcg['NDCG@10'], recall['Recall@1'], recall['Recall@5'],\n",
    "                   recall['Recall@10'],recall['Recall@100'], recall['Recall@1000']))"
   ]
  },
  {
   "cell_type": "code",
   "execution_count": 5,
   "metadata": {},
   "outputs": [
    {
     "name": "stdout",
     "output_type": "stream",
     "text": [
      "Doc 1: 2988714 [Coupled local translation and degradation regulate growth cone collapse] - Local translation mediates axonal responses to Semaphorin3A (Sema3A) and other guidance cues. However, only a subset of the axonal proteome is locally synthesized, whereas most proteins are trafficked from the soma. The reason why only specific proteins are locally synthesized is unknown. Here we show that local protein synthesis and degradation are linked events in growth cones. We find that growth cones exhibit high levels of ubiquitination and that local signalling pathways trigger the ubiquitination and degradation of RhoA, a mediator of Sema3A-induced growth cone collapse. Inhibition of RhoA degradation is sufficient to remove the protein-synthesis requirement for Sema3A-induced growth cone collapse. In addition to RhoA, we find that locally translated proteins are the main targets of the ubiquitin-proteasome system in growth cones. Thus, local protein degradation is a major feature of growth cones and creates a requirement for local translation to replenish proteins needed to maintain growth cone responses.\n",
      "\n",
      "Doc 2: 33912020 [Thioredoxin mediates oxidation-dependent phosphorylation of CRMP2 and growth cone collapse.] - Semaphorin3A (Sema3A) is a repulsive guidance molecule for axons, which acts by inducing growth cone collapse through phosphorylation of CRMP2 (collapsin response mediator protein 2). Here, we show a role for CRMP2 oxidation and thioredoxin (TRX) in the regulation of CRMP2 phosphorylation and growth cone collapse. Sema3A stimulation generated hydrogen peroxide (H2O2) through MICAL (molecule interacting with CasL) and oxidized CRMP2, enabling it to form a disulfide-linked homodimer through cysteine-504. Oxidized CRMP2 then formed a transient disulfide-linked complex with TRX, which stimulated CRMP2 phosphorylation by glycogen synthase kinase-3, leading to growth cone collapse. We also reconstituted oxidation-dependent phosphorylation of CRMP2 in vitro, using a limited set of purified proteins. Our results not only clarify the importance of H2O2 and CRMP2 oxidation in Sema3A-induced growth cone collapse but also indicate an unappreciated role for TRX in linking CRMP2 oxidation to phosphorylation.\n",
      "\n",
      "Doc 3: 9680193 [Vps22/EAP30 in ESCRT-II mediates endosomal sorting of growth factor and chemokine receptors destined for lysosomal degradation.] - The ubiquitin-binding protein Hrs and endosomal sorting complex required for transport (ESCRT)-I and ESCRT-III are involved in sorting endocytosed and ubiquitinated receptors to lysosomes for degradation and efficient termination of signaling. In this study, we have investigated the role of the ESCRT-II subunit Vps22/EAP30 in degradative protein sorting of ubiquitinated receptors. Vps22 transiently expressed in HeLa cells was detected in endosomes containing endocytosed epidermal growth factor receptors (EGFRs) as well as Hrs and ESCRT-I and ESCRT-III. Depletion of Vps22 by small interfering RNA, which was accompanied by decreased levels of other ESCRT-II subunits, greatly reduced degradation of EGFR and its ligand EGF as well as the chemokine receptor CXCR4. EGFR accumulated on the limiting membranes of early endosomes and aberrantly small multivesicular bodies in Vps22-depleted cells. Phosphorylation and nuclear translocation of extracellular-signal-regulated kinase1/2 downstream of the EGF-activated receptor were sustained by depletion of Hrs or the ESCRT-I subunit Tsg101. In contrast, this was not the case when Vps22 was depleted. These results indicate an important role for Vps22 in ligand-induced EGFR and CXCR4 turnover and suggest that termination of EGF signaling occurs prior to ESCRT-II engagement.\n",
      "\n",
      "Doc 4: 20672596 [Metabolism of glucose, glutamine, long-chain fatty acids and ketone bodies by murine macrophages.] - Maximum activities of some key enzymes of metabolism were studied in elicited (inflammatory) macrophages of the mouse and lymph-node lymphocytes of the rat. The activity of hexokinase in the macrophage is very high, as high as that in any other major tissue of the body, and higher than that of phosphorylase or 6-phosphofructokinase, suggesting that glucose is a more important fuel than glycogen and that the pentose phosphate pathway is also important in these cells. The latter suggestion is supported by the high activities of both glucose-6-phosphate dehydrogenase and 6-phosphogluconate dehydrogenase. However, the rate of glucose utilization by 'resting' macrophages incubated in vitro is less than the 10% of the activity of 6-phosphofructokinase: this suggests that the rate of glycolysis is increased dramatically during phagocytosis or increased secretory activity. The macrophages possess higher activities of citrate synthase and oxoglutarate dehydrogenase than do lymphocytes, suggesting that the tricarboxylic acid cycle may be important in energy generation in these cells. The activity of 3-oxoacid CoA-transferase is higher in the macrophage, but that of 3-hydroxybutyrate dehydrogenase is very much lower than those in the lymphocytes. The activity of carnitine palmitoyltransferase is higher in macrophages, suggesting that fatty acids as well as acetoacetate could provide acetyl-CoA as substrate for the tricarboxylic acid cycle. No detectable rate of acetoacetate or 3-hydroxybutyrate utilization was observed during incubation of resting macrophages, but that of oleate was 1.0 nmol/h per mg of protein or about 2.2% of the activity of palmitoyltransferase. The activity of glutaminase is about 4-fold higher in macrophages than in lymphocytes, which suggests that the rate of glutamine utilization could be very high. The rate of utilization of glutamine by resting incubated macrophages was similar to that reported for rat lymphocytes, but was considerably lower than the activity of glutaminase.\n",
      "\n",
      "Doc 5: 44947611 [Three-dimensional structure of the AAH26994.1 protein from Mus musculus, a putative eukaryotic Urm1.] - We have used NMR spectroscopy to determine the solution structure of protein AAH26994.1 from Mus musculus and propose that it represents the first three-dimensional structure of a ubiquitin-related modifier 1 (Urm1) protein. Amino acid sequence comparisons indicate that AAH26994.1 belongs to the Urm1 family of ubiquitin-like modifier proteins. The best characterized member of this family has been shown to be involved in nutrient sensing, invasive growth, and budding in yeast. Proteins in this family have only a weak sequence similarity to ubiquitin, and the structure of AAH26994.1 showed a much closer resemblance to MoaD subunits of molybdopterin synthases (known structures are of three bacterial MoaD proteins with 14%-26% sequence identity to AAH26994.1). The structures of AAH26994.1 and the MoaD proteins each contain the signature ubiquitin secondary structure fold, but all differ from ubiquitin largely in regions outside of this fold. This structural similarity bolsters the hypothesis that ubiquitin and ubiquitin-related proteins evolved from a protein-based sulfide donor system of the molybdopterin synthase type.\n",
      "\n",
      "Doc 6: 9513785 [Maternal Protein Restriction Affects Postnatal Growth and the Expression of Key Proteins Involved in Lifespan Regulation in Mice] - We previously reported that maternal protein restriction in rodents influenced the rate of growth in early life and ultimately affected longevity. Low birth weight caused by maternal protein restriction followed by catch-up growth (recuperated animals) was associated with shortened lifespan whereas protein restriction and slow growth during lactation (postnatal low protein: PLP animals) increased lifespan. We aim to explore the mechanistic basis by which these differences arise. Here we investigated effects of maternal diet on organ growth, metabolic parameters and the expression of insulin/IGF1 signalling proteins and Sirt1 in muscle of male mice at weaning. PLP mice which experienced protein restriction during lactation had lower fasting glucose (P = 0.038) and insulin levels (P = 0.046) suggesting improved insulin sensitivity. PLP mice had higher relative weights (adjusted by body weight) of brain (P = 0.0002) and thymus (P = 0.031) compared to controls suggesting that enhanced functional capacity of these two tissues is beneficial to longevity. They also had increased expression of insulin receptor substrate 1 (P = 0.021) and protein kinase C zeta (P = 0.046). Recuperated animals expressed decreased levels of many insulin signalling proteins including PI3 kinase subunits p85alpha (P = 0.018), p110beta (P = 0.048) and protein kinase C zeta (P = 0.006) which may predispose these animals to insulin resistance. Sirt1 protein expression was reduced in recuperated offspring. These observations suggest that maternal protein restriction can affect major metabolic pathways implicated in regulation of lifespan at a young age which may explain the impact of maternal diet on longevity.\n",
      "\n",
      "Doc 7: 23160444 [Two-tiered coupling between flowing actin and immobilized N-cadherin/catenin complexes in neuronal growth cones.] - Neuronal growth cones move forward by dynamically connecting actin-based motility to substrate adhesion, but the mechanisms at the individual molecular level remain unclear. We cultured primary neurons on N-cadherin-coated micropatterned substrates, and imaged adhesion and cytoskeletal proteins at the ventral surface of growth cones using single particle tracking combined to photoactivated localization microscopy (sptPALM). We demonstrate transient interactions in the second time scale between flowing actin filaments and immobilized N-cadherin/catenin complexes, translating into a local reduction of the actin retrograde flow. Normal actin flow on micropatterns was rescued by expression of a dominant negative N-cadherin construct competing for the coupling between actin and endogenous N-cadherin. Fluorescence recovery after photobleaching (FRAP) experiments confirmed the differential kinetics of actin and N-cadherin, and further revealed a 20% actin population confined at N-cadherin micropatterns, contributing to local actin accumulation. Computer simulations with relevant kinetic parameters modeled N-cadherin and actin turnover well, validating this mechanism. Such a combination of short- and long-lived interactions between the motile actin network and spatially restricted adhesive complexes represents a two-tiered clutch mechanism likely to sustain dynamic environment sensing and provide the force necessary for growth cone migration.\n",
      "\n",
      "Doc 8: 6718824 [Protein restriction during pregnancy affects maternal liver lipid metabolism and fetal brain lipid composition in the rat.] - Suboptimal developmental environments program offspring to lifelong metabolic problems. The aim of this study was to determine the impact of protein restriction in pregnancy on maternal liver lipid metabolism at 19 days of gestation (dG) and its effect on fetal brain development. Control (C) and restricted (R) mothers were fed with isocaloric diets containing 20 and 10% of casein. At 19 dG, maternal blood and livers and fetal livers and brains were collected. Serum insulin and leptin levels were determinate in mothers. Maternal and fetal liver lipid and fetal brain lipid quantification were performed. Maternal liver and fetal brain fatty acids were quantified by gas chromatography. In mothers, liver desaturase and elongase mRNAs were measured by RT-PCR. Maternal body and liver weights were similar in both groups. However, fat body composition, including liver lipids, was lower in R mothers. A higher fasting insulin at 19 dG in the R group was observed (C = 0.2 +/- 0.04 vs. R = 0.9 +/- 0.16 ng/ml, P < 0.01) and was inversely related to early growth retardation. Serum leptin in R mothers was significantly higher than that observed in C rats (C = 5 +/- 0.1 vs. R = 7 +/- 0.7 ng/ml, P < 0.05). In addition, protein restriction significantly reduced gene expression in maternal liver of desaturases and elongases and the concentration of arachidonic (AA) and docosahexanoic (DHA) acids. In fetus from R mothers, a low body weight (C = 3 +/- 0.3 vs. R = 2 +/- 0.1 g, P < 0.05), as well as liver and brain lipids, including the content of DHA in the brain, was reduced. This study showed that protein restriction during pregnancy may negatively impact normal fetal brain development by changes in maternal lipid metabolism.\n",
      "\n",
      "Doc 9: 86231298 [The Ulp1 SUMO isopeptidase distinct domains required for viability, nuclear envelope localization, and substrate specificity] - Protein modification by the ubiquitin-like SUMO protein contributes to many cellular regulatory mechanisms. In Saccharomyces cerevisiae, both sumoylating and desumoylating activities are essential for viability. Of its two known desumoylating enzymes, Ubl-specific protease (Ulp)1 and Ulp2/Smt4, Ulp1 is specifically required for cell cycle progression. A ∼200-residue segment, the Ulp domain (UD), is conserved among Ulps and includes a core cysteine protease domain that is even more widespread. Here we demonstrate that the Ulp1 UD by itself can support wild-type growth rates and in vitro can cleave SUMO from substrates. However, in cells expressing only the UD of Ulp1, many SUMO conjugates accumulate to high levels, indicating that the nonessential Ulp1 NH2-terminal domain is important for activity against a substantial fraction of sumoylated targets. The NH2-terminal domain also includes sequences necessary and sufficient to concentrate Ulp1 at nuclear envelope sites. Remarkably, NH2-terminally deleted Ulp1 variants are able, unlike full-length Ulp1, to suppress defects of cells lacking the divergent Ulp2 isopeptidase. Thus, the NH2-terminal regulatory domain of Ulp1 restricts Ulp1 activity toward certain sumoylated proteins while enabling the cleavage of others. These data define key functional elements of Ulp1 and strongly suggest that subcellular localization is a physiologically significant constraint on SUMO isopeptidase specificity.\n",
      "\n",
      "Doc 10: 6609935 [Differential regulation of actin microfilaments by human MICAL proteins.] - The Drosophila melanogaster MICAL protein is essential for the neuronal growth cone machinery that functions through plexin- and semaphorin-mediated axonal signaling. Drosophila MICAL is also involved in regulating myofilament organization and synaptic structures, and serves as an actin disassembly factor downstream of plexin-mediated axonal repulsion. In mammalian cells there are three known isoforms, MICAL1, MICAL2 and MICAL3, as well as the MICAL-like proteins MICAL-L1 and MICAL-L2, but little is known of their function, and information comes almost exclusively from neural cells. In this study we show that in non-neural cells human MICALs are required for normal actin organization, and all three MICALs regulate actin stress fibers. Moreover, we provide evidence that the generation of reactive oxygen species by MICAL proteins is crucial for their actin-regulatory function. However, although MICAL1 is auto-inhibited by its C-terminal coiled-coil region, MICAL2 remains constitutively active and affects stress fibers. These data suggest differential but complementary roles for MICAL1 and MICAL2 in actin microfilament regulation.\n",
      "\n"
     ]
    }
   ],
   "source": [
    "# show examples\n",
    "import random\n",
    "\n",
    "query_id, scores_dict = random.choice(list(results.items()))\n",
    "\n",
    "scores = sorted(scores_dict.items(), key=lambda item: item[1], reverse=True)\n",
    "for rank in range(10):\n",
    "    doc_id = scores[rank][0]\n",
    "    print(\"Doc %d: %s [%s] - %s\\n\" % (rank+1, doc_id, corpus[doc_id].get(\"title\"), corpus[doc_id].get(\"text\")))"
   ]
  },
  {
   "cell_type": "code",
   "execution_count": null,
   "metadata": {},
   "outputs": [],
   "source": []
  }
 ],
 "metadata": {
  "kernelspec": {
   "display_name": "transformers",
   "language": "python",
   "name": "transformers"
  }
 },
 "nbformat": 4,
 "nbformat_minor": 2
}
