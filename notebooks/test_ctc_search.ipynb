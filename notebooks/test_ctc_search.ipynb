{
 "cells": [
  {
   "cell_type": "code",
   "execution_count": 1,
   "metadata": {},
   "outputs": [],
   "source": [
    "# load entities\n",
    "import json\n",
    "\n",
    "path = '../data/'\n",
    "\n",
    "with open(path+'entities.json', 'r') as fin:\n",
    "    entities = json.load(fin)\n",
    "print(len(entities), 'entity labels')"
   ]
  },
  {
   "cell_type": "code",
   "execution_count": 2,
   "metadata": {},
   "outputs": [
    {
     "name": "stderr",
     "output_type": "stream",
     "text": [
      "Some weights of Wav2Vec2ForCTC were not initialized from the model checkpoint at facebook/wav2vec2-base-960h and are newly initialized: ['wav2vec2.masked_spec_embed']\n",
      "You should probably TRAIN this model on a down-stream task to be able to use it for predictions and inference.\n"
     ]
    }
   ],
   "source": [
    "from ctc_search import Recognizer\n",
    "\n",
    "# load pre-trained ASR model\n",
    "w2v_recognizer = Recognizer()"
   ]
  },
  {
   "cell_type": "code",
   "execution_count": 3,
   "metadata": {},
   "outputs": [
    {
     "name": "stdout",
     "output_type": "stream",
     "text": [
      "where was sasha vujačić born\n",
      "sasha vujacic\n",
      "SASHA\n",
      "CIC\n",
      "0.71 words matched\n",
      "What is a film directed by wiebke von carolsfeld?\n",
      "wiebke carolsfeld\n",
      "WIEBKE\n",
      "CAROLSFELD\n",
      "1.00 words matched\n",
      "What was Seymour Parker Gilbert's profession?\n",
      "seymour parker gilbert\n",
      "SEYMOUR\n",
      "PARKER\n",
      "GILBERT\n",
      "1.00 words matched\n",
      "in what french city did antoine de févin die \n",
      "antoine de fevin\n",
      "NTOINE\n",
      "DE\n",
      "FEVIN\n",
      "0.95 words matched\n",
      "What job does jamie hewlett have\n",
      "jamie hewlet\n",
      "JAMIE\n",
      "EWLET\n",
      "0.92 words matched\n"
     ]
    }
   ],
   "source": [
    "wav_path = \"../data/dev/\"\n",
    "\n",
    "# SAMPLE = 4  # pick sample from the dev set\n",
    "nsamples = 5\n",
    "with open('../data/annotated_wd_data_valid_answerable.txt') as fin:\n",
    "    lines = fin.readlines()\n",
    "#     l = lines[SAMPLE-1]\n",
    "    for i, l in enumerate(lines[:nsamples]):\n",
    "        s, p, o, q = l.strip('\\n').split('\\t')\n",
    "        print(q)\n",
    "\n",
    "        s_label = entities[s]\n",
    "        query_str = s_label\n",
    "\n",
    "        file = str(i+1) + '.wav'\n",
    "\n",
    "        w2v_recognizer.predict(wav_path+file)\n",
    "#         print(query_str)\n",
    "        score = w2v_recognizer.search(query_str)\n",
    "        print('%.2f words matched' % score)"
   ]
  },
  {
   "cell_type": "code",
   "execution_count": null,
   "metadata": {},
   "outputs": [],
   "source": []
  }
 ],
 "metadata": {
  "kernelspec": {
   "display_name": "transformers",
   "language": "python",
   "name": "transformers"
  },
  "language_info": {
   "codemirror_mode": {
    "name": "ipython",
    "version": 3
   },
   "file_extension": ".py",
   "mimetype": "text/x-python",
   "name": "python",
   "nbconvert_exporter": "python",
   "pygments_lexer": "ipython3",
   "version": "3.6.10"
  }
 },
 "nbformat": 4,
 "nbformat_minor": 2
}
