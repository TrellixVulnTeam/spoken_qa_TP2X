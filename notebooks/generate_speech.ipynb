{
 "cells": [
  {
   "cell_type": "code",
   "execution_count": 1,
   "metadata": {},
   "outputs": [
    {
     "name": "stdout",
     "output_type": "stream",
     "text": [
      "/ivi/ilps/personal/svakule/spoken_qa/annotated_wd_data_train.txt\n",
      "34374 questions in total\n"
     ]
    }
   ],
   "source": [
    "# load questions\n",
    "data_path = '/ivi/ilps/personal/svakule/spoken_qa/'\n",
    "split = 'train'  # 'train' 'valid' ...\n",
    "path_to_questions = data_path + 'annotated_wd_data_%s.txt' % split\n",
    "\n",
    "print(path_to_questions)\n",
    "with open(path_to_questions) as fin:\n",
    "    lines = fin.readlines()\n",
    "    print(len(lines), 'questions in total')"
   ]
  },
  {
   "cell_type": "code",
   "execution_count": 2,
   "metadata": {},
   "outputs": [],
   "source": [
    "# generate speech using Google API\n",
    "import time\n",
    "from gtts import gTTS\n",
    "\n",
    "# iterate over questions, generate speech and save to wav as a new dataset\n",
    "wav_path = \"/ivi/ilps/personal/svakule/spoken_qa/gtts/annotated_wd_data_%s/\" % split\n",
    "\n",
    "for i, l in enumerate(lines):\n",
    "    if i > 26115:\n",
    "        s, p, o, q = lines[i].strip('\\n').split('\\t')\n",
    "        speech = gTTS(text=q, lang='en', slow=False)\n",
    "        speech.save(wav_path+str(i)+'.mp3')\n",
    "        time.sleep(1)\n",
    "\n",
    "# scp -r svakule@ilps-h1.science.uva.nl:/ivi/ilps/personal/svakule/spoken_qa/gtts/annotated_wd_data_train .\n",
    "# for i in *.mp3; do ffmpeg -i $i \"v${i%.mp3}.wav\"; done\n",
    "# copy to folder wav\n",
    "# scp -r ./wav svakule@ilps-h1.science.uva.nl:/ivi/ilps/personal/svakule/spoken_qa/gtts/annotated_wd_data_valid"
   ]
  }
 ],
 "metadata": {
  "kernelspec": {
   "display_name": "transformers",
   "language": "python",
   "name": "transformers"
  },
  "language_info": {
   "codemirror_mode": {
    "name": "ipython",
    "version": 3
   },
   "file_extension": ".py",
   "mimetype": "text/x-python",
   "name": "python",
   "nbconvert_exporter": "python",
   "pygments_lexer": "ipython3",
   "version": "3.8.1"
  }
 },
 "nbformat": 4,
 "nbformat_minor": 2
}
