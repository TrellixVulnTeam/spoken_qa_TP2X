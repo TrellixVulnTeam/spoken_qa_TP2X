{
 "cells": [
  {
   "cell_type": "code",
   "execution_count": 5,
   "metadata": {},
   "outputs": [],
   "source": [
    "# load sample original and transcribed questions to compare\n",
    "data_path = '/ivi/ilps/personal/svakule/spoken_qa/'\n",
    "dataset_name = 'WD18_entities/'\n",
    "qo_path = data_path + dataset_name + \"valid_original.jsonl\"  # original text questions\n",
    "qt_path = data_path + dataset_name + \"valid_wav2vec2-base-960h.jsonl\"  # questions transcribed from synthethised speech"
   ]
  },
  {
   "cell_type": "code",
   "execution_count": 14,
   "metadata": {},
   "outputs": [],
   "source": [
    "import json\n",
    "\n",
    "def load(path):\n",
    "    qs = {}\n",
    "    with open(path) as fin:\n",
    "        for line in fin:\n",
    "            q = json.loads(line)\n",
    "            qs[q['_id']] = q['text']\n",
    "    return qs\n",
    "\n",
    "qos = load(qo_path)\n",
    "qts = load(qt_path)"
   ]
  },
  {
   "cell_type": "code",
   "execution_count": 23,
   "metadata": {},
   "outputs": [
    {
     "name": "stdout",
     "output_type": "stream",
     "text": [
      "in what french city did antoine de févin die \n",
      "Query Tokenized: ['[CLS]', 'in', 'what', 'french', 'city', 'did', 'antoine', 'de', 'fe', '##vin', 'die', '[SEP]']\n",
      "in what french city did untwinde feaven die\n",
      "Query Tokenized: ['[CLS]', 'in', 'what', 'french', 'city', 'did', 'un', '##t', '##wind', '##e', 'fe', '##ave', '##n', 'die', '[SEP]']\n"
     ]
    }
   ],
   "source": [
    "_id = '2'\n",
    "\n",
    "# tokenize\n",
    "from transformers import AutoTokenizer, AutoModel\n",
    "\n",
    "# you can switch the model to the original \"distilbert-base-uncased\" to see that the usage example then breaks and the score ordering is reversed :O\n",
    "#pre_trained_model_name = \"distilbert-base-uncased\"\n",
    "pre_trained_model_name = \"sebastian-hofstaetter/distilbert-dot-tas_b-b256-msmarco\"\n",
    "\n",
    "tokenizer = AutoTokenizer.from_pretrained(pre_trained_model_name) \n",
    "bert_model = AutoModel.from_pretrained(pre_trained_model_name)\n",
    "\n",
    "print(qos[_id])\n",
    "query_input_qo = tokenizer(qos[_id], return_tensors=\"pt\")\n",
    "print(\"Query Tokenized:\", tokenizer.convert_ids_to_tokens(query_input_qo[\"input_ids\"][0]))\n",
    "\n",
    "print(qts[_id])\n",
    "query_input_qt = tokenizer(qts[_id], return_tensors=\"pt\")\n",
    "print(\"Query Tokenized:\", tokenizer.convert_ids_to_tokens(query_input_qt[\"input_ids\"][0]))"
   ]
  },
  {
   "cell_type": "code",
   "execution_count": 24,
   "metadata": {},
   "outputs": [
    {
     "name": "stdout",
     "output_type": "stream",
     "text": [
      "Score:  114.05656433105469\n",
      "Score:  103.06715393066406\n"
     ]
    }
   ],
   "source": [
    "query_encoded_qo = bert_model(**query_input_qo)[0][:,0,:].squeeze(0)\n",
    "query_encoded_qt = bert_model(**query_input_qt)[0][:,0,:].squeeze(0)\n",
    "\n",
    "score0 = query_encoded_qo.dot(query_encoded_qo)\n",
    "print(\"Score: \", float(score0))\n",
    "score = query_encoded_qo.dot(query_encoded_qt)\n",
    "print(\"Score: \", float(score))"
   ]
  },
  {
   "cell_type": "code",
   "execution_count": null,
   "metadata": {},
   "outputs": [],
   "source": []
  }
 ],
 "metadata": {
  "kernelspec": {
   "display_name": "transformers",
   "language": "python",
   "name": "transformers"
  },
  "language_info": {
   "codemirror_mode": {
    "name": "ipython",
    "version": 3
   },
   "file_extension": ".py",
   "mimetype": "text/x-python",
   "name": "python",
   "nbconvert_exporter": "python",
   "pygments_lexer": "ipython3",
   "version": "3.8.1"
  }
 },
 "nbformat": 4,
 "nbformat_minor": 2
}
