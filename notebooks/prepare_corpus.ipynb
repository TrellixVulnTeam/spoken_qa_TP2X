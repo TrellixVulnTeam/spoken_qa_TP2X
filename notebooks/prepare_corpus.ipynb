{
 "cells": [
  {
   "cell_type": "code",
   "execution_count": 48,
   "metadata": {},
   "outputs": [
    {
     "name": "stdout",
     "output_type": "stream",
     "text": [
      "28497 entities\n",
      "{'_id': 'Q1938494', 'title': '', 'text': 'Mirosław Bork', 'metadata': {}}\n"
     ]
    }
   ],
   "source": [
    "# load entities\n",
    "import json\n",
    "\n",
    "with open('../data/entities.json', 'r') as fin:\n",
    "    entities = json.load(fin)\n",
    "\n",
    "corpus = []\n",
    "for _id, label in entities.items():\n",
    "    corpus.append({\"_id\": _id, \"title\": \"\", \"text\": label, \"metadata\": {}})\n",
    "\n",
    "print(len(corpus), 'entities')\n",
    "print(corpus[0])"
   ]
  },
  {
   "cell_type": "code",
   "execution_count": 49,
   "metadata": {},
   "outputs": [
    {
     "name": "stdout",
     "output_type": "stream",
     "text": [
      "1026 questions in total\n"
     ]
    }
   ],
   "source": [
    "# load data from https://github.com/askplatypus/wikidata-simplequestions\n",
    "data_path = '/ivi/ilps/personal/svakule/spoken_qa/'\n",
    "split = 'valid'  # 'train' 'valid' ...\n",
    "# path_to_questions = data_path + 'annotated_wd_data_%s.txt' % split\n",
    "path_to_questions = data_path + 'sqs_valid_wikidata2018_09_11.txt'  # filtered subset\n",
    "\n",
    "with open(path_to_questions) as fin:\n",
    "    lines = fin.readlines()\n",
    "    print(len(lines), 'questions in total')"
   ]
  },
  {
   "cell_type": "code",
   "execution_count": 50,
   "metadata": {},
   "outputs": [
    {
     "name": "stdout",
     "output_type": "stream",
     "text": [
      "995 samples with entities recognised\n",
      "{'_id': '0', 'text': 'where was sasha vujačić born', 'metadata': {}} ['0', 'Q318926', '1']\n"
     ]
    }
   ],
   "source": [
    "# filter questions with entities for which we have label\n",
    "dataset = 'WD18/'\n",
    "\n",
    "corpus_path = data_path + dataset + \"entities.jsonl\"\n",
    "query_path = data_path + dataset + \"%s_original.jsonl\" % split\n",
    "qrels_path = data_path + dataset + \"%s.tsv\" % split\n",
    "\n",
    "queries, qrels = [], []\n",
    "indices = []\n",
    "for i, l in enumerate(lines):\n",
    "    s, p, o, q = lines[i].strip('\\n').split('\\t')\n",
    "    if s in entities:\n",
    "        indices.append(i)\n",
    "        queries.append({\"_id\": str(i), \"text\": q, \"metadata\": {}})\n",
    "        qrels.append([str(i), s, '1'])\n",
    "\n",
    "print(len(queries), 'samples with entities recognised')\n",
    "print(queries[0], qrels[0])"
   ]
  },
  {
   "cell_type": "code",
   "execution_count": 51,
   "metadata": {},
   "outputs": [],
   "source": [
    "# save dataset\n",
    "import jsonlines\n",
    "\n",
    "with open(corpus_path, 'w') as out_file:\n",
    "    for d in corpus:\n",
    "        out_file.write(json.dumps(d))\n",
    "        out_file.write(\"\\n\")\n",
    "        \n",
    "with open(query_path, 'w') as out_file:\n",
    "    for d in queries:\n",
    "        out_file.write(json.dumps(d))\n",
    "        out_file.write(\"\\n\")\n",
    "\n",
    "with open(qrels_path, 'w') as out_file:\n",
    "    for qrel in qrels:\n",
    "        out_file.write('\\t'.join(qrel)+'\\n')"
   ]
  },
  {
   "cell_type": "code",
   "execution_count": 52,
   "metadata": {},
   "outputs": [],
   "source": [
    "from beir.datasets.data_loader import GenericDataLoader\n",
    "\n",
    "corpus, queries, qrels = GenericDataLoader(\n",
    "    corpus_file=corpus_path, \n",
    "    query_file=query_path, \n",
    "    qrels_file=qrels_path).load_custom()"
   ]
  },
  {
   "cell_type": "markdown",
   "metadata": {},
   "source": [
    "# ASR Transcriptions"
   ]
  },
  {
   "cell_type": "code",
   "execution_count": 65,
   "metadata": {},
   "outputs": [],
   "source": [
    "# # generate speech using Google API\n",
    "# import time\n",
    "# from gtts import gTTS\n",
    "\n",
    "# # iterate over questions, generate speech and save to wav as a new dataset\n",
    "wav_path = \"/ivi/ilps/personal/svakule/spoken_qa/sqs_valid_wikidata2018_09_11/\"\n",
    "# # /ivi/ilps/personal/svakule/spoken_qa/gtts\n",
    "\n",
    "# for d in queries:\n",
    "#     if int(d['_id']) > 2837:\n",
    "#         time.sleep(10)\n",
    "#         speech = gTTS(text=d['text'], lang='en', slow=False)\n",
    "#         speech.save(wav_path+d['_id']+'.mp3')\n",
    "\n",
    "# check number of files generated\n",
    "# # scp\n",
    "# # for i in *.mp3; do ffmpeg -i $i \"${i%.mp3}.wav\"; done\n",
    "# # remove mp3 files"
   ]
  },
  {
   "cell_type": "code",
   "execution_count": 68,
   "metadata": {},
   "outputs": [
    {
     "name": "stderr",
     "output_type": "stream",
     "text": [
      "Some weights of Wav2Vec2ForCTC were not initialized from the model checkpoint at facebook/wav2vec2-base-960h and are newly initialized: ['wav2vec2.masked_spec_embed']\n",
      "You should probably TRAIN this model on a down-stream task to be able to use it for predictions and inference.\n",
      "/home/svakule/anaconda3/envs/transformers/lib/python3.8/site-packages/transformers/models/wav2vec2/tokenization_wav2vec2.py:417: FutureWarning: The class `Wav2Vec2Tokenizer` is deprecated and will be removed in version 5 of Transformers. Please use `Wav2Vec2Processor` or `Wav2Vec2CTCTokenizer` instead.\n",
      "  warnings.warn(\n"
     ]
    },
    {
     "name": "stdout",
     "output_type": "stream",
     "text": [
      "995 questions transcribed\n",
      "{'_id': '217', 'text': 'what is marfines van scok vix job', 'metadata': {}}\n"
     ]
    }
   ],
   "source": [
    "# load queries and qrels\n",
    "import os\n",
    "import torch\n",
    "from transformers import Wav2Vec2ForCTC, Wav2Vec2Tokenizer\n",
    "from datasets import load_dataset\n",
    "import soundfile as sf\n",
    "\n",
    "model = Wav2Vec2ForCTC.from_pretrained(\"facebook/wav2vec2-base-960h\")\n",
    "tokenizer = Wav2Vec2Tokenizer.from_pretrained(\"facebook/wav2vec2-base-960h\")\n",
    "model.to('cuda')\n",
    "\n",
    "queries = []\n",
    "for file in os.listdir(wav_path):\n",
    "    i = int(file.split('.')[0]) - 1\n",
    "    if i in indices:\n",
    "        speech, samplerate = sf.read(wav_path+file)\n",
    "\n",
    "        input_values = tokenizer(speech, return_tensors=\"pt\", padding=\"longest\").input_values\n",
    "        input_values = input_values.to('cuda')\n",
    "        \n",
    "        logits = model(input_values).logits\n",
    "        predicted_ids = torch.argmax(logits, dim=-1)\n",
    "        transcription = tokenizer.batch_decode(predicted_ids)[0].lower()\n",
    "        \n",
    "        queries.append({\"_id\": str(i), \"text\": transcription, \"metadata\": {}})\n",
    "\n",
    "print(len(queries), 'questions transcribed')\n",
    "print(queries[0])"
   ]
  },
  {
   "cell_type": "code",
   "execution_count": 70,
   "metadata": {},
   "outputs": [],
   "source": [
    "query_path = data_path + dataset + \"%s_wav2vec2-base-960h.jsonl\" % split\n",
    "\n",
    "with open(query_path, 'w') as out_file:\n",
    "    for d in queries:\n",
    "        out_file.write(json.dumps(d))\n",
    "        out_file.write(\"\\n\")"
   ]
  },
  {
   "cell_type": "code",
   "execution_count": null,
   "metadata": {},
   "outputs": [],
   "source": [
    "# from beir.datasets.data_loader import GenericDataLoader\n",
    "\n",
    "# corpus, queries, qrels = GenericDataLoader(\n",
    "#     corpus_file=corpus_path, \n",
    "#     query_file=query_path, \n",
    "#     qrels_file=qrels_path).load_custom()"
   ]
  },
  {
   "cell_type": "code",
   "execution_count": null,
   "metadata": {},
   "outputs": [],
   "source": []
  }
 ],
 "metadata": {
  "kernelspec": {
   "display_name": "transformers",
   "language": "python",
   "name": "transformers"
  },
  "language_info": {
   "codemirror_mode": {
    "name": "ipython",
    "version": 3
   },
   "file_extension": ".py",
   "mimetype": "text/x-python",
   "name": "python",
   "nbconvert_exporter": "python",
   "pygments_lexer": "ipython3",
   "version": "3.8.1"
  }
 },
 "nbformat": 4,
 "nbformat_minor": 2
}
