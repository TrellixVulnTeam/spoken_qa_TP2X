{
 "cells": [
  {
   "cell_type": "code",
   "execution_count": 40,
   "metadata": {},
   "outputs": [],
   "source": [
    "# vocabulary: abc def -\n",
    "#             123 456 0\n",
    "# sample n=6 m=2\n",
    "# bd- dee\n",
    "# dee ffa\n",
    "vocabulary = \"-abcdef\""
   ]
  },
  {
   "cell_type": "code",
   "execution_count": 21,
   "metadata": {},
   "outputs": [
    {
     "name": "stdout",
     "output_type": "stream",
     "text": [
      "(2, 6)\n"
     ]
    },
    {
     "data": {
      "text/plain": [
       "array([2, 0, 0, 4, 5, 5, 4, 5, 5, 6, 6, 1])"
      ]
     },
     "execution_count": 21,
     "metadata": {},
     "output_type": "execute_result"
    }
   ],
   "source": [
    "# CTC matrix\n",
    "import numpy as np\n",
    "\n",
    "predictions = np.array([[2, 0, 0, 4, 5, 5],\n",
    "                        [4, 5, 5, 6, 6, 1]])\n",
    "print(predictions.shape)\n",
    "predictions.flatten()"
   ]
  },
  {
   "cell_type": "code",
   "execution_count": 27,
   "metadata": {},
   "outputs": [
    {
     "name": "stdout",
     "output_type": "stream",
     "text": [
      "[[0, 3], [0, 9], [0, 8], [0, 7], [6, 3], [6, 9], [6, 8], [6, 7], [7, 3], [7, 9], [7, 8], [8, 3], [8, 9], [3, 4], [3, 10], [9, 4], [9, 10], [4, 5], [4, 11], [10, 5], [10, 11]]\n"
     ]
    }
   ],
   "source": [
    "# generate a DAG of the given shape\n",
    "import networkx as nx\n",
    "\n",
    "def connect(predictions, t, k, n, predictions_shape):\n",
    "    edges = []\n",
    "    for j in range(predictions_shape):  # offset\n",
    "        if predictions[j][k] != 0:\n",
    "            edges.append([n*predictions.shape[1]+t, j*predictions.shape[1]+k])\n",
    "        else:\n",
    "            # skip to next if exists\n",
    "            edges.extend(connect(predictions, t, k+1, n, predictions_shape))\n",
    "    return edges\n",
    "\n",
    "DG = nx.DiGraph()\n",
    "edges = []\n",
    "for t in range(predictions.shape[1]-1):  # columns\n",
    "    for n in range(predictions.shape[0]):  # rows\n",
    "        if predictions[n][t] != 0:\n",
    "            edges.extend(connect(predictions, t, t+1, n, predictions.shape[0]))\n",
    "            \n",
    "print(edges)"
   ]
  },
  {
   "cell_type": "code",
   "execution_count": null,
   "metadata": {},
   "outputs": [],
   "source": []
  }
 ],
 "metadata": {
  "kernelspec": {
   "display_name": "transformers",
   "language": "python",
   "name": "transformers"
  },
  "language_info": {
   "codemirror_mode": {
    "name": "ipython",
    "version": 3
   },
   "file_extension": ".py",
   "mimetype": "text/x-python",
   "name": "python",
   "nbconvert_exporter": "python",
   "pygments_lexer": "ipython3",
   "version": "3.6.10"
  }
 },
 "nbformat": 4,
 "nbformat_minor": 2
}
