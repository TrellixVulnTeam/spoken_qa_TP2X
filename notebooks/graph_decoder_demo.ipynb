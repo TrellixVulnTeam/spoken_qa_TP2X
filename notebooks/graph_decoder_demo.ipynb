{
 "cells": [
  {
   "cell_type": "code",
   "execution_count": 30,
   "metadata": {},
   "outputs": [],
   "source": [
    "# vocabulary: abc def -\n",
    "#             123 456 0\n",
    "# sample n=6 m=2\n",
    "# bd- dee\n",
    "# dee ffa\n",
    "vocabulary = \"-abcdef\""
   ]
  },
  {
   "cell_type": "code",
   "execution_count": 35,
   "metadata": {},
   "outputs": [
    {
     "name": "stdout",
     "output_type": "stream",
     "text": [
      "(2, 6)\n",
      "[2 0 0 4 5 5 4 5 5 6 6 1]\n"
     ]
    }
   ],
   "source": [
    "# CTC matrix\n",
    "import numpy as np\n",
    "\n",
    "predictions = np.array([[2, 0, 0, 4, 5, 5],\n",
    "                        [4, 5, 5, 6, 6, 1]])\n",
    "print(predictions.shape)\n",
    "indices = predictions.flatten()\n",
    "print(indices)"
   ]
  },
  {
   "cell_type": "code",
   "execution_count": 28,
   "metadata": {},
   "outputs": [
    {
     "name": "stdout",
     "output_type": "stream",
     "text": [
      "[[0, 3], [0, 9], [0, 8], [0, 7], [6, 3], [6, 9], [6, 8], [6, 7], [7, 3], [7, 9], [7, 8], [8, 3], [8, 9], [3, 4], [3, 10], [9, 4], [9, 10], [4, 5], [4, 11], [10, 5], [10, 11]]\n"
     ]
    }
   ],
   "source": [
    "# generate adjacencies\n",
    "def connect(predictions, t, k, n, predictions_shape):\n",
    "    edges = []\n",
    "    for j in range(predictions_shape):  # offset\n",
    "        if predictions[j][k] != 0:\n",
    "            edges.append([n*predictions.shape[1]+t, j*predictions.shape[1]+k])\n",
    "        else:\n",
    "            # skip to next if exists\n",
    "            edges.extend(connect(predictions, t, k+1, n, predictions_shape))\n",
    "    return edges\n",
    "\n",
    "edges = []\n",
    "for t in range(predictions.shape[1]-1):  # columns\n",
    "    for n in range(predictions.shape[0]):  # rows\n",
    "        if predictions[n][t] != 0:\n",
    "            edges.extend(connect(predictions, t, t+1, n, predictions.shape[0]))\n",
    "            \n",
    "print(edges)"
   ]
  },
  {
   "cell_type": "code",
   "execution_count": 44,
   "metadata": {},
   "outputs": [
    {
     "data": {
      "text/plain": [
       "[[2, 5], [5, 4]]"
      ]
     },
     "execution_count": 44,
     "metadata": {},
     "output_type": "execute_result"
    }
   ],
   "source": [
    "# search\n",
    "query_str = 'bed'\n",
    "query = [vocabulary.index(letter) for letter in query_str]\n",
    "query = [query[i:i + 2] for i in range(0, len(query)-1, 1)]\n",
    "query"
   ]
  },
  {
   "cell_type": "code",
   "execution_count": 41,
   "metadata": {},
   "outputs": [
    {
     "data": {
      "text/plain": [
       "[[0, 8], [0, 7], [7, 3], [8, 3]]"
      ]
     },
     "execution_count": 41,
     "metadata": {},
     "output_type": "execute_result"
    }
   ],
   "source": [
    "bigrams = []\n",
    "for e in edges:\n",
    "    bigram = [indices[e[0]], indices[e[1]]]\n",
    "    if bigram in query:\n",
    "        bigrams.append(e)\n",
    "bigrams"
   ]
  },
  {
   "cell_type": "code",
   "execution_count": 45,
   "metadata": {},
   "outputs": [
    {
     "name": "stdout",
     "output_type": "stream",
     "text": [
      "[0, 7, 3]\n",
      "bed\n"
     ]
    },
    {
     "data": {
      "text/plain": [
       "True"
      ]
     },
     "execution_count": 45,
     "metadata": {},
     "output_type": "execute_result"
    }
   ],
   "source": [
    "import networkx as nx\n",
    "\n",
    "DG = nx.DiGraph()\n",
    "\n",
    "DG.add_edges_from(bigrams)\n",
    "path = nx.dag_longest_path(DG)\n",
    "print(path)\n",
    "word = ''.join([vocabulary[indices[i]] for i in path])\n",
    "print(word)\n",
    "word == query_str"
   ]
  },
  {
   "cell_type": "code",
   "execution_count": null,
   "metadata": {},
   "outputs": [],
   "source": []
  }
 ],
 "metadata": {
  "kernelspec": {
   "display_name": "transformers",
   "language": "python",
   "name": "transformers"
  },
  "language_info": {
   "codemirror_mode": {
    "name": "ipython",
    "version": 3
   },
   "file_extension": ".py",
   "mimetype": "text/x-python",
   "name": "python",
   "nbconvert_exporter": "python",
   "pygments_lexer": "ipython3",
   "version": "3.6.10"
  }
 },
 "nbformat": 4,
 "nbformat_minor": 2
}
