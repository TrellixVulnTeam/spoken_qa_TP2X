{
 "cells": [
  {
   "cell_type": "code",
   "execution_count": 4,
   "metadata": {},
   "outputs": [],
   "source": [
    "# vocabulary: abc def -\n",
    "#             123 456 0\n",
    "# lexicon: cab bed\n",
    "# sample n=6 m=2\n",
    "# bd- dee\n",
    "# dee ffa\n",
    "# answer: bed"
   ]
  },
  {
   "cell_type": "code",
   "execution_count": 5,
   "metadata": {},
   "outputs": [],
   "source": [
    "# CTC matrix\n",
    "import torch\n",
    "\n",
    "lexicon = [[3, 1, 2], [2, 5, 4]]\n",
    "indices = torch.tensor([[2, 4], [4, 5], [0, 5], [4, 6], [5, 6], [5, 1]])\n",
    "indices = torch.tensor([[2, 4, 0, 4, 5, 5], [4, 5, 5, 6, 6, 1]])"
   ]
  },
  {
   "cell_type": "code",
   "execution_count": 24,
   "metadata": {},
   "outputs": [],
   "source": [
    "import scipy.sparse as sp\n",
    "import numpy as np\n",
    "\n",
    "# build default grid n=6 m=2\n",
    "adjacencies = [[0, 1], [1, 2], [2, 3], [3, 4], [4, 5],  # 1st row\n",
    "               [6, 7], [7, 8], [8, 9], [9, 10], [10, 11], # 2nd row\n",
    "               [0, 7], [1, 8], [2, 9], [3, 10], [4, 11], # \\\\\\\n",
    "               [6, 1], [7, 2], [8, 3], [9, 4], [10, 5]] # ///\n",
    "\n",
    "# change edges for every -\n",
    "adjacencies = [[0, 1], [1, 3], [3, 4], [4, 5],\n",
    "               [6, 7], [7, 8], [8, 9], [7, 9], [9, 10], [10, 11],\n",
    "               [0, 7], [1, 8], [1, 9], [3, 10], [4, 11],\n",
    "               [6, 1], [7, 3], [8, 3], [9, 4], [10, 5]]\n"
   ]
  },
  {
   "cell_type": "code",
   "execution_count": 29,
   "metadata": {},
   "outputs": [
    {
     "name": "stdout",
     "output_type": "stream",
     "text": [
      "(12, 12)\n"
     ]
    }
   ],
   "source": [
    "def generate_adj_sp(edges, n_entities):\n",
    "    '''\n",
    "    Build adjacency matrix\n",
    "    '''\n",
    "    adj_shape = (n_entities, n_entities)\n",
    "    \n",
    "    # split subject (row) and object (col) node URIs\n",
    "    n_edges = len(edges)\n",
    "    row, col = np.transpose(edges)\n",
    "\n",
    "\n",
    "    # create adjacency matrix for this predicate\n",
    "    data = np.ones(n_edges)\n",
    "    adj = sp.csr_matrix((data, (row, col)), shape=adj_shape)\n",
    "    return adj\n",
    "\n",
    "A = generate_adj_sp(adjacencies, n_entities=12)\n",
    "print(A.shape)"
   ]
  },
  {
   "cell_type": "code",
   "execution_count": 40,
   "metadata": {},
   "outputs": [
    {
     "name": "stdout",
     "output_type": "stream",
     "text": [
      "(12,)\n"
     ]
    }
   ],
   "source": [
    "# activate nodes that match lexicon words: b22 e53\n",
    "# be 23 -> ed 23\n",
    "_map = {'e': [4, 5, 7, 8], 'd': [1, 3, 6]}\n",
    "indices =    [2, 4, 0, 4, 5, 5, 4, 5, 5, 6, 6, 1]\n",
    "x = np.array([2, 0, 0, 0, 3, 3, 0, 3, 3, 0, 0, 0])\n",
    "print(x.shape)"
   ]
  },
  {
   "cell_type": "code",
   "execution_count": 41,
   "metadata": {},
   "outputs": [
    {
     "name": "stdout",
     "output_type": "stream",
     "text": [
      "[0. 2. 0. 6. 0. 3. 0. 2. 3. 6. 0. 3.]\n"
     ]
    }
   ],
   "source": [
    "# MP\n",
    "y = x @ A\n",
    "print(y)"
   ]
  },
  {
   "cell_type": "code",
   "execution_count": 96,
   "metadata": {},
   "outputs": [
    {
     "name": "stdout",
     "output_type": "stream",
     "text": [
      "[0. 3. 2. 3.]\n",
      "[2.]\n",
      "[2. 6. 0.]\n",
      "[6.]\n",
      "True\n"
     ]
    },
    {
     "data": {
      "text/plain": [
       "True"
      ]
     },
     "execution_count": 96,
     "metadata": {},
     "output_type": "execute_result"
    }
   ],
   "source": [
    "# check patterns in y using indices e5d4 23\n",
    "e_activations = y[_map['e']]\n",
    "print(e_activations)\n",
    "e_activations = e_activations[e_activations!=0]\n",
    "e_activations = e_activations[e_activations%2==0]\n",
    "print(e_activations)  # 3rd e 7\n",
    "\n",
    "d_activations = y[_map['d']]\n",
    "print(d_activations)  # 2nd d 3\n",
    "d_activations = d_activations[d_activations!=0]\n",
    "d_activations = d_activations[d_activations%3==0]\n",
    "print(d_activations)\n",
    "\n",
    "\n",
    "print(bool(len(e_activations) & len(d_activations)))\n",
    "\n",
    "[7, 3] in adjacencies"
   ]
  },
  {
   "cell_type": "code",
   "execution_count": null,
   "metadata": {},
   "outputs": [],
   "source": []
  }
 ],
 "metadata": {
  "kernelspec": {
   "display_name": "transformers",
   "language": "python",
   "name": "transformers"
  },
  "language_info": {
   "codemirror_mode": {
    "name": "ipython",
    "version": 3
   },
   "file_extension": ".py",
   "mimetype": "text/x-python",
   "name": "python",
   "nbconvert_exporter": "python",
   "pygments_lexer": "ipython3",
   "version": "3.6.10"
  }
 },
 "nbformat": 4,
 "nbformat_minor": 2
}
