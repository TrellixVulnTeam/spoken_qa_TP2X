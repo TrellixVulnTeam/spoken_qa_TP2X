{
 "cells": [
  {
   "cell_type": "markdown",
   "metadata": {},
   "source": [
    "# Dense Retrieval for Relation Extraction"
   ]
  },
  {
   "cell_type": "markdown",
   "metadata": {},
   "source": [
    "## 1. Load Corpus"
   ]
  },
  {
   "cell_type": "code",
   "execution_count": 17,
   "metadata": {},
   "outputs": [
    {
     "name": "stdout",
     "output_type": "stream",
     "text": [
      "8913 relations\n"
     ]
    }
   ],
   "source": [
    "# load entities\n",
    "import json\n",
    "\n",
    "with open('../data/relations.json', 'r') as fin:\n",
    "    relations = json.load(fin)\n",
    "\n",
    "print(len(relations), 'relations')"
   ]
  },
  {
   "cell_type": "code",
   "execution_count": 18,
   "metadata": {},
   "outputs": [],
   "source": [
    "# a subset of questions from https://github.com/askplatypus/wikidata-simplequestions\n",
    "from beir.datasets.data_loader import GenericDataLoader\n",
    "\n",
    "data_path = '/ivi/ilps/personal/svakule/spoken_qa/'\n",
    "dataset = 'WD18_relations/'\n",
    "split = 'valid'\n",
    "\n",
    "query_path = data_path + dataset + \"%s_original.jsonl\" % split  # original text questions\n",
    "# query_path = data_path + dataset + \"%s_wav2vec2-base-960h.jsonl\" % split  # questions transcribed from synthethised speech\n",
    "\n",
    "qrels_path = data_path + dataset + \"%s.tsv\" % split\n",
    "corpus_path = data_path + dataset + \"relations.jsonl\"\n",
    "\n",
    "\n",
    "corpus, queries, qrels = GenericDataLoader(\n",
    "    corpus_file=corpus_path, \n",
    "    query_file=query_path, \n",
    "    qrels_file=qrels_path).load_custom()"
   ]
  },
  {
   "cell_type": "markdown",
   "metadata": {},
   "source": [
    "## 2. Evaluate with BEIR"
   ]
  },
  {
   "cell_type": "code",
   "execution_count": 19,
   "metadata": {},
   "outputs": [],
   "source": [
    "from beir.retrieval.search.dense import DenseRetrievalExactSearch as DRES\n",
    "from beir.retrieval.evaluation import EvaluateRetrieval\n",
    "from beir.retrieval import models"
   ]
  },
  {
   "cell_type": "code",
   "execution_count": 20,
   "metadata": {},
   "outputs": [
    {
     "data": {
      "application/vnd.jupyter.widget-view+json": {
       "model_id": "682b3cc14e374799bd7169f2326109fb",
       "version_major": 2,
       "version_minor": 0
      },
      "text/plain": [
       "Batches:   0%|          | 0/38 [00:00<?, ?it/s]"
      ]
     },
     "metadata": {},
     "output_type": "display_data"
    },
    {
     "data": {
      "application/vnd.jupyter.widget-view+json": {
       "model_id": "43711c533e7c402b9de76e5f1c5d484a",
       "version_major": 2,
       "version_minor": 0
      },
      "text/plain": [
       "Batches:   0%|          | 0/70 [00:00<?, ?it/s]"
      ]
     },
     "metadata": {},
     "output_type": "display_data"
    },
    {
     "name": "stdout",
     "output_type": "stream",
     "text": [
      "{'NDCG@1': 0.03978, 'NDCG@3': 0.06112, 'NDCG@5': 0.07255, 'NDCG@10': 0.08704, 'NDCG@100': 0.1335, 'NDCG@1000': 0.17667} {'MAP@1': 0.03978, 'MAP@3': 0.05582, 'MAP@5': 0.0622, 'MAP@10': 0.06808, 'MAP@100': 0.07594, 'MAP@1000': 0.07728} {'Recall@1': 0.03978, 'Recall@3': 0.07646, 'Recall@5': 0.10408, 'Recall@10': 0.14942, 'Recall@100': 0.38623, 'Recall@1000': 0.74196} {'P@1': 0.03978, 'P@3': 0.02549, 'P@5': 0.02082, 'P@10': 0.01494, 'P@100': 0.00386, 'P@1000': 0.00074}\n"
     ]
    }
   ],
   "source": [
    "# TAS-B trained on original corrupted WD18\n",
    "model_name = '/ivi/ilps/personal/svakule/msmarco/output/msmarco-distilbert-base-tas-b-WD18-original-corrupted'\n",
    "model = DRES(models.SentenceBERT(model_name))\n",
    "retriever = EvaluateRetrieval(model, score_function=\"dot\")\n",
    "results1 = retriever.retrieve(corpus, queries)\n",
    "ndcg, _map, recall, precision = retriever.evaluate(qrels, results1, retriever.k_values)\n",
    "# acc = precision['P@1']\n",
    "print(ndcg, _map, recall, precision)"
   ]
  },
  {
   "cell_type": "code",
   "execution_count": 21,
   "metadata": {},
   "outputs": [
    {
     "data": {
      "application/vnd.jupyter.widget-view+json": {
       "model_id": "ddf3a680ea4f4bd2b6bb2e47508d0295",
       "version_major": 2,
       "version_minor": 0
      },
      "text/plain": [
       "Batches:   0%|          | 0/38 [00:00<?, ?it/s]"
      ]
     },
     "metadata": {},
     "output_type": "display_data"
    },
    {
     "data": {
      "application/vnd.jupyter.widget-view+json": {
       "model_id": "64402e34059146888bff284aab65afe6",
       "version_major": 2,
       "version_minor": 0
      },
      "text/plain": [
       "Batches:   0%|          | 0/70 [00:00<?, ?it/s]"
      ]
     },
     "metadata": {},
     "output_type": "display_data"
    },
    {
     "name": "stdout",
     "output_type": "stream",
     "text": [
      "{'NDCG@1': 0.04081, 'NDCG@3': 0.06281, 'NDCG@5': 0.07195, 'NDCG@10': 0.08323, 'NDCG@100': 0.12757, 'NDCG@1000': 0.17606} {'MAP@1': 0.04081, 'MAP@3': 0.05719, 'MAP@5': 0.06225, 'MAP@10': 0.06688, 'MAP@100': 0.07436, 'MAP@1000': 0.07588} {'Recall@1': 0.04081, 'Recall@3': 0.07914, 'Recall@5': 0.1014, 'Recall@10': 0.13644, 'Recall@100': 0.36294, 'Recall@1000': 0.76175} {'P@1': 0.04081, 'P@3': 0.02638, 'P@5': 0.02028, 'P@10': 0.01364, 'P@100': 0.00363, 'P@1000': 0.00076}\n"
     ]
    }
   ],
   "source": [
    "# TAS-B trained on original WD18\n",
    "model_name = '/ivi/ilps/personal/svakule/msmarco/output/msmarco-distilbert-base-tas-b-WD18'\n",
    "model = DRES(models.SentenceBERT(model_name))\n",
    "retriever = EvaluateRetrieval(model, score_function=\"dot\")\n",
    "results1 = retriever.retrieve(corpus, queries)\n",
    "ndcg, _map, recall, precision = retriever.evaluate(qrels, results1, retriever.k_values)\n",
    "# acc = precision['P@1']\n",
    "print(ndcg, _map, recall, precision)"
   ]
  },
  {
   "cell_type": "code",
   "execution_count": 22,
   "metadata": {},
   "outputs": [
    {
     "data": {
      "application/vnd.jupyter.widget-view+json": {
       "model_id": "b3b81eb0e24048eb95547b3628df7b7a",
       "version_major": 2,
       "version_minor": 0
      },
      "text/plain": [
       "Batches:   0%|          | 0/38 [00:00<?, ?it/s]"
      ]
     },
     "metadata": {},
     "output_type": "display_data"
    },
    {
     "data": {
      "application/vnd.jupyter.widget-view+json": {
       "model_id": "bf9d11753f2341a3ba9f6194639b5e81",
       "version_major": 2,
       "version_minor": 0
      },
      "text/plain": [
       "Batches:   0%|          | 0/70 [00:00<?, ?it/s]"
      ]
     },
     "metadata": {},
     "output_type": "display_data"
    },
    {
     "name": "stdout",
     "output_type": "stream",
     "text": [
      "{'NDCG@1': 0.29761, 'NDCG@3': 0.38768, 'NDCG@5': 0.40999, 'NDCG@10': 0.43107, 'NDCG@100': 0.47815, 'NDCG@1000': 0.49608} {'MAP@1': 0.29761, 'MAP@3': 0.36535, 'MAP@5': 0.37782, 'MAP@10': 0.38648, 'MAP@100': 0.3953, 'MAP@1000': 0.39594} {'Recall@1': 0.29761, 'Recall@3': 0.45239, 'Recall@5': 0.50618, 'Recall@10': 0.57152, 'Recall@100': 0.80132, 'Recall@1000': 0.94394} {'P@1': 0.29761, 'P@3': 0.1508, 'P@5': 0.10124, 'P@10': 0.05715, 'P@100': 0.00801, 'P@1000': 0.00094}\n"
     ]
    }
   ],
   "source": [
    "# TAS-B winner!\n",
    "model = DRES(models.SentenceBERT(\"msmarco-distilbert-base-tas-b\"))\n",
    "retriever = EvaluateRetrieval(model, score_function=\"dot\")\n",
    "results1 = retriever.retrieve(corpus, queries)\n",
    "ndcg, _map, recall, precision = retriever.evaluate(qrels, results1, retriever.k_values)\n",
    "acc = precision['P@1']\n",
    "# print(acc)\n",
    "print(ndcg, _map, recall, precision)"
   ]
  },
  {
   "cell_type": "code",
   "execution_count": 23,
   "metadata": {},
   "outputs": [
    {
     "data": {
      "application/vnd.jupyter.widget-view+json": {
       "model_id": "0750af1fa07642da9a72ff8c0b980b0f",
       "version_major": 2,
       "version_minor": 0
      },
      "text/plain": [
       "Batches:   0%|          | 0/38 [00:00<?, ?it/s]"
      ]
     },
     "metadata": {},
     "output_type": "display_data"
    },
    {
     "data": {
      "application/vnd.jupyter.widget-view+json": {
       "model_id": "1d6b079ca07343648a0729bd6ca715f6",
       "version_major": 2,
       "version_minor": 0
      },
      "text/plain": [
       "Batches:   0%|          | 0/70 [00:00<?, ?it/s]"
      ]
     },
     "metadata": {},
     "output_type": "display_data"
    },
    {
     "data": {
      "text/plain": [
       "0.17766"
      ]
     },
     "execution_count": 23,
     "metadata": {},
     "output_type": "execute_result"
    }
   ],
   "source": [
    "# DistilBERT v3 cosine\n",
    "model = DRES(models.SentenceBERT(\"msmarco-distilbert-base-v3\"))\n",
    "retriever = EvaluateRetrieval(model, score_function=\"cos_sim\")\n",
    "results = retriever.retrieve(corpus, queries)\n",
    "ndcg, _map, recall, precision = retriever.evaluate(qrels, results, retriever.k_values)\n",
    "precision['P@1']"
   ]
  },
  {
   "cell_type": "code",
   "execution_count": 24,
   "metadata": {},
   "outputs": [
    {
     "data": {
      "application/vnd.jupyter.widget-view+json": {
       "model_id": "43bd34fd82174392b907f2b4267c8f8f",
       "version_major": 2,
       "version_minor": 0
      },
      "text/plain": [
       "Batches:   0%|          | 0/38 [00:00<?, ?it/s]"
      ]
     },
     "metadata": {},
     "output_type": "display_data"
    },
    {
     "data": {
      "application/vnd.jupyter.widget-view+json": {
       "model_id": "479a493a493748a2b85c686a0d4ef405",
       "version_major": 2,
       "version_minor": 0
      },
      "text/plain": [
       "Batches:   0%|          | 0/70 [00:00<?, ?it/s]"
      ]
     },
     "metadata": {},
     "output_type": "display_data"
    },
    {
     "data": {
      "text/plain": [
       "0.1488"
      ]
     },
     "execution_count": 24,
     "metadata": {},
     "output_type": "execute_result"
    }
   ],
   "source": [
    "# DistilBERT dot\n",
    "model = DRES(models.SentenceBERT(\"msmarco-distilbert-base-dot-prod-v3\"))\n",
    "retriever = EvaluateRetrieval(model, score_function=\"dot\")\n",
    "results = retriever.retrieve(corpus, queries)\n",
    "ndcg, _map, recall, precision = retriever.evaluate(qrels, results, retriever.k_values)\n",
    "precision['P@1']"
   ]
  },
  {
   "cell_type": "code",
   "execution_count": 25,
   "metadata": {},
   "outputs": [
    {
     "data": {
      "application/vnd.jupyter.widget-view+json": {
       "model_id": "c8f363ae4dd44a2688494cee518c1985",
       "version_major": 2,
       "version_minor": 0
      },
      "text/plain": [
       "Batches:   0%|          | 0/38 [00:00<?, ?it/s]"
      ]
     },
     "metadata": {},
     "output_type": "display_data"
    },
    {
     "data": {
      "application/vnd.jupyter.widget-view+json": {
       "model_id": "f2284a8ddeac4439899391624f4c0acb",
       "version_major": 2,
       "version_minor": 0
      },
      "text/plain": [
       "Batches:   0%|          | 0/70 [00:00<?, ?it/s]"
      ]
     },
     "metadata": {},
     "output_type": "display_data"
    },
    {
     "data": {
      "text/plain": [
       "0.20342"
      ]
     },
     "execution_count": 25,
     "metadata": {},
     "output_type": "execute_result"
    }
   ],
   "source": [
    "# DistilBERT v2\n",
    "model = DRES(models.SentenceBERT(\"msmarco-distilbert-base-v2\"))\n",
    "retriever = EvaluateRetrieval(model, score_function=\"cos_sim\")\n",
    "results = retriever.retrieve(corpus, queries)\n",
    "ndcg, _map, recall, precision = retriever.evaluate(qrels, results, retriever.k_values)\n",
    "precision['P@1']"
   ]
  },
  {
   "cell_type": "code",
   "execution_count": 26,
   "metadata": {},
   "outputs": [
    {
     "data": {
      "application/vnd.jupyter.widget-view+json": {
       "model_id": "4368c73d3f814d8fb4b40ef6293a7e95",
       "version_major": 2,
       "version_minor": 0
      },
      "text/plain": [
       "Batches:   0%|          | 0/38 [00:00<?, ?it/s]"
      ]
     },
     "metadata": {},
     "output_type": "display_data"
    },
    {
     "data": {
      "application/vnd.jupyter.widget-view+json": {
       "model_id": "c5a678bb6f9b4641b3648c7e24e12c1a",
       "version_major": 2,
       "version_minor": 0
      },
      "text/plain": [
       "Batches:   0%|          | 0/70 [00:00<?, ?it/s]"
      ]
     },
     "metadata": {},
     "output_type": "display_data"
    },
    {
     "data": {
      "text/plain": [
       "0.16941"
      ]
     },
     "execution_count": 26,
     "metadata": {},
     "output_type": "execute_result"
    }
   ],
   "source": [
    "# ANCE\n",
    "model = DRES(models.SentenceBERT(\"msmarco-roberta-base-ance-fristp\"))\n",
    "retriever = EvaluateRetrieval(model, score_function=\"dot\")\n",
    "results = retriever.retrieve(corpus, queries)\n",
    "ndcg, _map, recall, precision = retriever.evaluate(qrels, results, retriever.k_values)\n",
    "precision['P@1']"
   ]
  },
  {
   "cell_type": "markdown",
   "metadata": {},
   "source": [
    "## 3. Error Analysis"
   ]
  },
  {
   "cell_type": "code",
   "execution_count": 16,
   "metadata": {},
   "outputs": [
    {
     "ename": "KeyError",
     "evalue": "'Q4877206'",
     "output_type": "error",
     "traceback": [
      "\u001b[0;31m---------------------------------------------------------------------------\u001b[0m",
      "\u001b[0;31mKeyError\u001b[0m                                  Traceback (most recent call last)",
      "\u001b[0;32m<ipython-input-16-284517289055>\u001b[0m in \u001b[0;36m<module>\u001b[0;34m\u001b[0m\n\u001b[1;32m      8\u001b[0m     \u001b[0mscores_sorted\u001b[0m \u001b[0;34m=\u001b[0m \u001b[0msorted\u001b[0m\u001b[0;34m(\u001b[0m\u001b[0mranking_scores\u001b[0m\u001b[0;34m.\u001b[0m\u001b[0mitems\u001b[0m\u001b[0;34m(\u001b[0m\u001b[0;34m)\u001b[0m\u001b[0;34m,\u001b[0m \u001b[0mkey\u001b[0m\u001b[0;34m=\u001b[0m\u001b[0;32mlambda\u001b[0m \u001b[0mitem\u001b[0m\u001b[0;34m:\u001b[0m \u001b[0mitem\u001b[0m\u001b[0;34m[\u001b[0m\u001b[0;36m1\u001b[0m\u001b[0;34m]\u001b[0m\u001b[0;34m,\u001b[0m \u001b[0mreverse\u001b[0m\u001b[0;34m=\u001b[0m\u001b[0;32mTrue\u001b[0m\u001b[0;34m)\u001b[0m\u001b[0;34m\u001b[0m\u001b[0;34m\u001b[0m\u001b[0m\n\u001b[1;32m      9\u001b[0m     \u001b[0mcorrect_id\u001b[0m \u001b[0;34m=\u001b[0m \u001b[0mlist\u001b[0m\u001b[0;34m(\u001b[0m\u001b[0mqrels\u001b[0m\u001b[0;34m[\u001b[0m\u001b[0mquery_id\u001b[0m\u001b[0;34m]\u001b[0m\u001b[0;34m.\u001b[0m\u001b[0mkeys\u001b[0m\u001b[0;34m(\u001b[0m\u001b[0;34m)\u001b[0m\u001b[0;34m)\u001b[0m\u001b[0;34m[\u001b[0m\u001b[0;36m0\u001b[0m\u001b[0;34m]\u001b[0m\u001b[0;34m\u001b[0m\u001b[0;34m\u001b[0m\u001b[0m\n\u001b[0;32m---> 10\u001b[0;31m     \u001b[0mcorrect_label\u001b[0m \u001b[0;34m=\u001b[0m \u001b[0mrelations\u001b[0m\u001b[0;34m[\u001b[0m\u001b[0mcorrect_id\u001b[0m\u001b[0;34m]\u001b[0m\u001b[0;34m\u001b[0m\u001b[0;34m\u001b[0m\u001b[0m\n\u001b[0m\u001b[1;32m     11\u001b[0m     \u001b[0;32mfor\u001b[0m \u001b[0mrank\u001b[0m \u001b[0;32min\u001b[0m \u001b[0mrange\u001b[0m\u001b[0;34m(\u001b[0m\u001b[0mtop_k\u001b[0m\u001b[0;34m)\u001b[0m\u001b[0;34m:\u001b[0m\u001b[0;34m\u001b[0m\u001b[0;34m\u001b[0m\u001b[0m\n\u001b[1;32m     12\u001b[0m         \u001b[0mdoc_id\u001b[0m \u001b[0;34m=\u001b[0m \u001b[0mscores_sorted\u001b[0m\u001b[0;34m[\u001b[0m\u001b[0mrank\u001b[0m\u001b[0;34m]\u001b[0m\u001b[0;34m[\u001b[0m\u001b[0;36m0\u001b[0m\u001b[0;34m]\u001b[0m\u001b[0;34m\u001b[0m\u001b[0;34m\u001b[0m\u001b[0m\n",
      "\u001b[0;31mKeyError\u001b[0m: 'Q4877206'"
     ]
    }
   ],
   "source": [
    "import random\n",
    "\n",
    "top_k = 10\n",
    "n_times = 1000\n",
    "\n",
    "for _ in range(n_times):\n",
    "    query_id, ranking_scores = random.choice(list(results1.items()))\n",
    "    scores_sorted = sorted(ranking_scores.items(), key=lambda item: item[1], reverse=True)\n",
    "    correct_id = list(qrels[query_id].keys())[0]\n",
    "    correct_label = relations[correct_id]\n",
    "    for rank in range(top_k):\n",
    "        doc_id = scores_sorted[rank][0]\n",
    "        if doc_id == correct_id and rank==0:\n",
    "            break\n",
    "        if corpus[doc_id].get(\"text\") == correct_label and rank==0:\n",
    "            break\n",
    "        else:\n",
    "            if rank==0:\n",
    "                print(\"\\nQuery : %s, %s\" % (queries[query_id], correct_label))\n",
    "            print(\"Rank %d: %s - %s\" % (rank+1, doc_id, corpus[doc_id].get(\"text\")))\n",
    "            if doc_id == correct_id:\n",
    "                print('Correct!')\n",
    "#             break"
   ]
  },
  {
   "cell_type": "code",
   "execution_count": null,
   "metadata": {},
   "outputs": [],
   "source": []
  }
 ],
 "metadata": {
  "kernelspec": {
   "display_name": "transformers",
   "language": "python",
   "name": "transformers"
  },
  "language_info": {
   "codemirror_mode": {
    "name": "ipython",
    "version": 3
   },
   "file_extension": ".py",
   "mimetype": "text/x-python",
   "name": "python",
   "nbconvert_exporter": "python",
   "pygments_lexer": "ipython3",
   "version": "3.8.1"
  }
 },
 "nbformat": 4,
 "nbformat_minor": 2
}
